{
  "nbformat": 4,
  "nbformat_minor": 0,
  "metadata": {
    "colab": {
      "name": "2004__NBA_Game_Outcome_Predictions.ipynb",
      "provenance": [],
      "toc_visible": true
    },
    "kernelspec": {
      "name": "python3",
      "display_name": "Python 3"
    }
  },
  "cells": [
    {
      "cell_type": "markdown",
      "metadata": {
        "id": "E3k1nVJK6A4O"
      },
      "source": [
        "## Import Dependencies "
      ]
    },
    {
      "cell_type": "code",
      "metadata": {
        "id": "y8BOl5-P6vdv"
      },
      "source": [
        "import pandas as pd\n",
        "import numpy as np\n",
        "import matplotlib.pyplot as plt\n",
        "import seaborn as sns\n",
        "import requests\n",
        "import lxml.html as lh\n",
        "from sklearn.decomposition import PCA\n",
        "from sklearn import preprocessing\n",
        "%matplotlib inline\n",
        "plt.style.use('fivethirtyeight')\n",
        "pd.set_option('display.max_columns', None)\n",
        "import os\n",
        "import numpy as np\n",
        "import os\n",
        "from sklearn.model_selection import train_test_split\n",
        "from sklearn.svm import SVC\n",
        "from sklearn import neighbors\n",
        "from sklearn.neural_network import MLPClassifier\n",
        "import sklearn.metrics as metrics\n",
        "from sklearn.model_selection import KFold\n",
        "from operator import itemgetter\n",
        "from sklearn.model_selection import cross_val_score\n",
        "from sklearn.linear_model import LogisticRegression"
      ],
      "execution_count": 1,
      "outputs": []
    },
    {
      "cell_type": "markdown",
      "metadata": {
        "id": "3CyCbu_j8Ykn"
      },
      "source": [
        "# Get Data"
      ]
    },
    {
      "cell_type": "markdown",
      "metadata": {
        "id": "cmfwIo7yI16j"
      },
      "source": [
        "List of NBA Teams"
      ]
    },
    {
      "cell_type": "code",
      "metadata": {
        "id": "Ov5yrRYKLWfy"
      },
      "source": [
        "TEAMS_ID_NAME=[['1610612737', 'ATL'],\n",
        " ['1610612738', 'BOS'],\n",
        " ['1610612741', 'CHI'],\n",
        " ['1610612766', 'CHR'],\n",
        " ['1610612739', 'CLE'],\n",
        " ['1610612742', 'DAL'],\n",
        " ['1610612743' ,'DEN'],\n",
        " ['1610612765' ,'DET'],\n",
        " ['1610612744', 'GSW'],\n",
        " ['1610612745' ,'HOU'],\n",
        " ['1610612754' ,'IND'],\n",
        " ['1610612746' ,'LAC'],\n",
        " ['1610612747' ,'LAL'],\n",
        " ['1610612763' ,'MEM'],\n",
        " ['1610612748' ,'MIA'],\n",
        " ['1610612749' ,'MIL'],\n",
        " ['1610612750' ,'MIN'],\n",
        " ['1610612751' ,'NJN'],\n",
        " ['1610612740' ,'NOH'],\n",
        " ['1610612752' ,'NYK'],\n",
        " ['1610612753' ,'ORL'],\n",
        " ['1610612755' ,'PHI'],\n",
        " ['1610612756' ,'PHO'],\n",
        " ['1610612757' ,'POR'],\n",
        " ['1610612758' ,'SAC'],\n",
        " ['1610612759' ,'SAS'],\n",
        " ['1610612760' ,'SEA'],\n",
        " ['1610612761' ,'TOR'],\n",
        " ['1610612762' ,'UTA'],\n",
        " ['1610612764' ,'WAS']]"
      ],
      "execution_count": 2,
      "outputs": []
    },
    {
      "cell_type": "code",
      "metadata": {
        "id": "W31wMbqGJ8fi"
      },
      "source": [
        "# take out CHR Team (ID 1610612766) as there is no season data for it in 2003\n",
        "# Team ID\n",
        "team_ID = [1610612737, 1610612738, 1610612741, 1610612739, 1610612742, 1610612743, 1610612765, 1610612744, 1610612745, 1610612754, 1610612746, 1610612747, 1610612763, 1610612748, 1610612749, 1610612750, 1610612751, 1610612740, 1610612752, 1610612753, 1610612755, 1610612756, 1610612757, 1610612758, 1610612759, 1610612760, 1610612761, 1610612762, 1610612764]"
      ],
      "execution_count": 3,
      "outputs": []
    },
    {
      "cell_type": "markdown",
      "metadata": {
        "id": "rTB53vW-6-iT"
      },
      "source": [
        "##Team Season Data"
      ]
    },
    {
      "cell_type": "code",
      "metadata": {
        "id": "iTavoRRM4c8H"
      },
      "source": [
        "d = os.path.join(\"/content/team_season.txt\")\n",
        "team_season = np.loadtxt(d, delimiter=',', dtype='str')\n",
        "# get header\n",
        "header = team_season[0]\n",
        "# remove first row, header\n",
        "team_season = team_season[1:]\n",
        "# convert it to an CSV file\n",
        "pd.DataFrame(team_season).to_csv(\"team_stats.csv\", header = header,index=False)"
      ],
      "execution_count": 5,
      "outputs": []
    },
    {
      "cell_type": "code",
      "metadata": {
        "colab": {
          "base_uri": "https://localhost:8080/",
          "height": 224
        },
        "id": "OTzi160_8j0t",
        "outputId": "b9752d3e-4dd5-45fc-a769-7654f6c72f10"
      },
      "source": [
        "col_list = [\"team\", \"year\",'o_ftm','o_reb' ,'o_asts' ,'o_pf' ,'o_stl' ,'o_to' ,'o_blk', 'o_3pm','o_pts',\n",
        " 'd_ftm' ,'d_reb', 'd_asts' ,'d_pf',\n",
        " 'd_stl', 'd_to', 'd_blk','d_3pm','d_pts','won','lost']\n",
        "\n",
        "team_stats = pd.read_csv(\"team_stats.csv\",usecols=col_list)\n",
        "\n",
        "#get team stats for 2002\n",
        "stats_df = team_stats.loc[team_stats[\"year\"] == 2003]\n",
        "stats_df.head()"
      ],
      "execution_count": 6,
      "outputs": [
        {
          "output_type": "execute_result",
          "data": {
            "text/html": [
              "<div>\n",
              "<style scoped>\n",
              "    .dataframe tbody tr th:only-of-type {\n",
              "        vertical-align: middle;\n",
              "    }\n",
              "\n",
              "    .dataframe tbody tr th {\n",
              "        vertical-align: top;\n",
              "    }\n",
              "\n",
              "    .dataframe thead th {\n",
              "        text-align: right;\n",
              "    }\n",
              "</style>\n",
              "<table border=\"1\" class=\"dataframe\">\n",
              "  <thead>\n",
              "    <tr style=\"text-align: right;\">\n",
              "      <th></th>\n",
              "      <th>team</th>\n",
              "      <th>year</th>\n",
              "      <th>o_ftm</th>\n",
              "      <th>o_reb</th>\n",
              "      <th>o_asts</th>\n",
              "      <th>o_pf</th>\n",
              "      <th>o_stl</th>\n",
              "      <th>o_to</th>\n",
              "      <th>o_blk</th>\n",
              "      <th>o_3pm</th>\n",
              "      <th>o_pts</th>\n",
              "      <th>d_ftm</th>\n",
              "      <th>d_reb</th>\n",
              "      <th>d_asts</th>\n",
              "      <th>d_pf</th>\n",
              "      <th>d_stl</th>\n",
              "      <th>d_to</th>\n",
              "      <th>d_blk</th>\n",
              "      <th>d_3pm</th>\n",
              "      <th>d_pts</th>\n",
              "      <th>won</th>\n",
              "      <th>lost</th>\n",
              "    </tr>\n",
              "  </thead>\n",
              "  <tbody>\n",
              "    <tr>\n",
              "      <th>1128</th>\n",
              "      <td>ATL</td>\n",
              "      <td>2003</td>\n",
              "      <td>1534</td>\n",
              "      <td>3503</td>\n",
              "      <td>1648</td>\n",
              "      <td>1826</td>\n",
              "      <td>627</td>\n",
              "      <td>1278</td>\n",
              "      <td>408</td>\n",
              "      <td>419</td>\n",
              "      <td>7611</td>\n",
              "      <td>1574</td>\n",
              "      <td>3533</td>\n",
              "      <td>1803</td>\n",
              "      <td>1699</td>\n",
              "      <td>731</td>\n",
              "      <td>1086</td>\n",
              "      <td>409</td>\n",
              "      <td>482</td>\n",
              "      <td>7992</td>\n",
              "      <td>28</td>\n",
              "      <td>54</td>\n",
              "    </tr>\n",
              "    <tr>\n",
              "      <th>1129</th>\n",
              "      <td>BOS</td>\n",
              "      <td>2003</td>\n",
              "      <td>1572</td>\n",
              "      <td>3291</td>\n",
              "      <td>1683</td>\n",
              "      <td>1837</td>\n",
              "      <td>770</td>\n",
              "      <td>1289</td>\n",
              "      <td>331</td>\n",
              "      <td>553</td>\n",
              "      <td>7811</td>\n",
              "      <td>1587</td>\n",
              "      <td>3594</td>\n",
              "      <td>1882</td>\n",
              "      <td>1819</td>\n",
              "      <td>719</td>\n",
              "      <td>1334</td>\n",
              "      <td>407</td>\n",
              "      <td>555</td>\n",
              "      <td>7930</td>\n",
              "      <td>36</td>\n",
              "      <td>46</td>\n",
              "    </tr>\n",
              "    <tr>\n",
              "      <th>1130</th>\n",
              "      <td>CHI</td>\n",
              "      <td>2003</td>\n",
              "      <td>1330</td>\n",
              "      <td>3567</td>\n",
              "      <td>1793</td>\n",
              "      <td>1911</td>\n",
              "      <td>659</td>\n",
              "      <td>1249</td>\n",
              "      <td>394</td>\n",
              "      <td>429</td>\n",
              "      <td>7355</td>\n",
              "      <td>1673</td>\n",
              "      <td>3693</td>\n",
              "      <td>1890</td>\n",
              "      <td>1684</td>\n",
              "      <td>694</td>\n",
              "      <td>1190</td>\n",
              "      <td>442</td>\n",
              "      <td>439</td>\n",
              "      <td>7876</td>\n",
              "      <td>23</td>\n",
              "      <td>59</td>\n",
              "    </tr>\n",
              "    <tr>\n",
              "      <th>1131</th>\n",
              "      <td>CLE</td>\n",
              "      <td>2003</td>\n",
              "      <td>1528</td>\n",
              "      <td>3737</td>\n",
              "      <td>1808</td>\n",
              "      <td>1742</td>\n",
              "      <td>585</td>\n",
              "      <td>1166</td>\n",
              "      <td>537</td>\n",
              "      <td>247</td>\n",
              "      <td>7619</td>\n",
              "      <td>1491</td>\n",
              "      <td>3444</td>\n",
              "      <td>1783</td>\n",
              "      <td>1655</td>\n",
              "      <td>635</td>\n",
              "      <td>1018</td>\n",
              "      <td>434</td>\n",
              "      <td>431</td>\n",
              "      <td>7834</td>\n",
              "      <td>35</td>\n",
              "      <td>47</td>\n",
              "    </tr>\n",
              "    <tr>\n",
              "      <th>1132</th>\n",
              "      <td>DAL</td>\n",
              "      <td>2003</td>\n",
              "      <td>1475</td>\n",
              "      <td>3712</td>\n",
              "      <td>1963</td>\n",
              "      <td>1609</td>\n",
              "      <td>656</td>\n",
              "      <td>965</td>\n",
              "      <td>437</td>\n",
              "      <td>507</td>\n",
              "      <td>8626</td>\n",
              "      <td>1462</td>\n",
              "      <td>3571</td>\n",
              "      <td>1937</td>\n",
              "      <td>1689</td>\n",
              "      <td>582</td>\n",
              "      <td>1178</td>\n",
              "      <td>382</td>\n",
              "      <td>534</td>\n",
              "      <td>8262</td>\n",
              "      <td>52</td>\n",
              "      <td>30</td>\n",
              "    </tr>\n",
              "  </tbody>\n",
              "</table>\n",
              "</div>"
            ],
            "text/plain": [
              "     team  year  o_ftm  o_reb  o_asts  o_pf  o_stl  o_to  o_blk  o_3pm  o_pts  \\\n",
              "1128  ATL  2003   1534   3503    1648  1826    627  1278    408    419   7611   \n",
              "1129  BOS  2003   1572   3291    1683  1837    770  1289    331    553   7811   \n",
              "1130  CHI  2003   1330   3567    1793  1911    659  1249    394    429   7355   \n",
              "1131  CLE  2003   1528   3737    1808  1742    585  1166    537    247   7619   \n",
              "1132  DAL  2003   1475   3712    1963  1609    656   965    437    507   8626   \n",
              "\n",
              "      d_ftm  d_reb  d_asts  d_pf  d_stl  d_to  d_blk  d_3pm  d_pts  won  lost  \n",
              "1128   1574   3533    1803  1699    731  1086    409    482   7992   28    54  \n",
              "1129   1587   3594    1882  1819    719  1334    407    555   7930   36    46  \n",
              "1130   1673   3693    1890  1684    694  1190    442    439   7876   23    59  \n",
              "1131   1491   3444    1783  1655    635  1018    434    431   7834   35    47  \n",
              "1132   1462   3571    1937  1689    582  1178    382    534   8262   52    30  "
            ]
          },
          "metadata": {
            "tags": []
          },
          "execution_count": 6
        }
      ]
    },
    {
      "cell_type": "code",
      "metadata": {
        "id": "SHUqWcSx_Nml"
      },
      "source": [
        "TeamStats_2003 = np.array(stats_df)\n",
        "#skip first 2 columns (team name and year)\n",
        "team_stats = TeamStats_2003[:,2 :] "
      ],
      "execution_count": 7,
      "outputs": []
    },
    {
      "cell_type": "markdown",
      "metadata": {
        "id": "HqJmY8_S_bxg"
      },
      "source": [
        "## Game Data"
      ]
    },
    {
      "cell_type": "code",
      "metadata": {
        "id": "BoHIWdA6KpvJ",
        "colab": {
          "base_uri": "https://localhost:8080/",
          "height": 204
        },
        "outputId": "972e46e7-06e9-4f3c-db7a-d844e6ca3140"
      },
      "source": [
        "col_list =[\"HOME_TEAM_ID\",\"VISITOR_TEAM_ID\",\"SEASON\", \"HOME_TEAM_WINS\"]\n",
        "game_data = pd.read_csv(\"games.csv\", usecols=col_list)\n",
        "# get games only for season 2004\n",
        "game_data = game_data.loc[game_data[\"SEASON\"] == 2004]\n",
        "\n",
        "\n",
        "# take CHR Game data out \n",
        "game_data = game_data.loc[game_data[\"HOME_TEAM_ID\"] != 1610612766]\n",
        "game_data = game_data.loc[game_data[\"VISITOR_TEAM_ID\"] != 1610612766]\n",
        "game_data.head()"
      ],
      "execution_count": 9,
      "outputs": [
        {
          "output_type": "execute_result",
          "data": {
            "text/html": [
              "<div>\n",
              "<style scoped>\n",
              "    .dataframe tbody tr th:only-of-type {\n",
              "        vertical-align: middle;\n",
              "    }\n",
              "\n",
              "    .dataframe tbody tr th {\n",
              "        vertical-align: top;\n",
              "    }\n",
              "\n",
              "    .dataframe thead th {\n",
              "        text-align: right;\n",
              "    }\n",
              "</style>\n",
              "<table border=\"1\" class=\"dataframe\">\n",
              "  <thead>\n",
              "    <tr style=\"text-align: right;\">\n",
              "      <th></th>\n",
              "      <th>HOME_TEAM_ID</th>\n",
              "      <th>VISITOR_TEAM_ID</th>\n",
              "      <th>SEASON</th>\n",
              "      <th>HOME_TEAM_WINS</th>\n",
              "    </tr>\n",
              "  </thead>\n",
              "  <tbody>\n",
              "    <tr>\n",
              "      <th>13086</th>\n",
              "      <td>1610612759</td>\n",
              "      <td>1610612765</td>\n",
              "      <td>2004</td>\n",
              "      <td>1</td>\n",
              "    </tr>\n",
              "    <tr>\n",
              "      <th>13087</th>\n",
              "      <td>1610612759</td>\n",
              "      <td>1610612765</td>\n",
              "      <td>2004</td>\n",
              "      <td>0</td>\n",
              "    </tr>\n",
              "    <tr>\n",
              "      <th>13088</th>\n",
              "      <td>1610612765</td>\n",
              "      <td>1610612759</td>\n",
              "      <td>2004</td>\n",
              "      <td>0</td>\n",
              "    </tr>\n",
              "    <tr>\n",
              "      <th>13089</th>\n",
              "      <td>1610612765</td>\n",
              "      <td>1610612759</td>\n",
              "      <td>2004</td>\n",
              "      <td>1</td>\n",
              "    </tr>\n",
              "    <tr>\n",
              "      <th>13090</th>\n",
              "      <td>1610612765</td>\n",
              "      <td>1610612759</td>\n",
              "      <td>2004</td>\n",
              "      <td>1</td>\n",
              "    </tr>\n",
              "  </tbody>\n",
              "</table>\n",
              "</div>"
            ],
            "text/plain": [
              "       HOME_TEAM_ID  VISITOR_TEAM_ID  SEASON  HOME_TEAM_WINS\n",
              "13086    1610612759       1610612765    2004               1\n",
              "13087    1610612759       1610612765    2004               0\n",
              "13088    1610612765       1610612759    2004               0\n",
              "13089    1610612765       1610612759    2004               1\n",
              "13090    1610612765       1610612759    2004               1"
            ]
          },
          "metadata": {
            "tags": []
          },
          "execution_count": 9
        }
      ]
    },
    {
      "cell_type": "code",
      "metadata": {
        "id": "WB9H3kJiGHaj"
      },
      "source": [
        "# convert into a np array\n",
        "game_data = np.array(game_data)"
      ],
      "execution_count": 10,
      "outputs": []
    },
    {
      "cell_type": "markdown",
      "metadata": {
        "id": "ThgXliu_-_lI"
      },
      "source": [
        "# Create the Feature Vector"
      ]
    },
    {
      "cell_type": "code",
      "metadata": {
        "id": "aqurKFce0_Cy"
      },
      "source": [
        "def createDataSet(game_data,usePCA,isNormalized):\r\n",
        "  pca = PCA(n_components=18)\r\n",
        "  normalizer = preprocessing.MinMaxScaler()\r\n",
        "  data = []\r\n",
        "  for i in range(len(game_data)):\r\n",
        "\r\n",
        "    # find location home_team stats\r\n",
        "    find_index = np.where(team_ID == game_data[i][0])\r\n",
        "    index = find_index[0][0]\r\n",
        "    # get home_team stats\r\n",
        "    home_side = np.array(team_stats[index])\r\n",
        "\r\n",
        "  \r\n",
        "    # get away_team stats\r\n",
        "    find_index = np.where(team_ID == game_data[i][1])\r\n",
        "    index = find_index[0][0]\r\n",
        "    away_side =  np.array(team_stats[index])\r\n",
        "\r\n",
        "\r\n",
        "    # concatenate home_team stats and away_team stats\r\n",
        "    feature_vector = np.concatenate((home_side, away_side), axis=None)\r\n",
        "\r\n",
        "    \r\n",
        "    # add fearure vector to data\r\n",
        "    data.append(feature_vector)\r\n",
        "\r\n",
        "  #NORMALIZE\r\n",
        "  if (isNormalized):\r\n",
        "    data = normalizer.fit_transform(data)\r\n",
        "\r\n",
        "  #reduce feature vector with PCA\r\n",
        "  if (usePCA):\r\n",
        "    data = pca.fit_transform(data)\r\n",
        "\r\n",
        "  ndata = []\r\n",
        "\r\n",
        "  for z in range(len(game_data)):\r\n",
        "    result = []\r\n",
        "    result.append(game_data[z][3])\r\n",
        "\r\n",
        "    # create feature vector by appending the outcome labled result of the game  \r\n",
        "    feature_vector = np.concatenate((data[z],result), axis=None)\r\n",
        "    ndata.append(feature_vector)\r\n",
        "\r\n",
        "  data = np.array(ndata)\r\n",
        "  \r\n",
        "  return data"
      ],
      "execution_count": 11,
      "outputs": []
    },
    {
      "cell_type": "markdown",
      "metadata": {
        "id": "P8Bn7kOvCD-h"
      },
      "source": [
        "# ML Techniques"
      ]
    },
    {
      "cell_type": "markdown",
      "metadata": {
        "id": "9RtER72HIIhC"
      },
      "source": [
        "Scoring matrix "
      ]
    },
    {
      "cell_type": "code",
      "metadata": {
        "id": "PhoIhwKg19gr"
      },
      "source": [
        "def scores(model):\n",
        "    \n",
        "    model.fit(xtrain, ytrain)\n",
        "    y_pred = model.predict(xtest)\n",
        "    \n",
        "    print(\"Accuracy score: %.3f\" % metrics.accuracy_score(ytest, y_pred))\n",
        "    print(\"Recall: %.3f\" % metrics.recall_score(ytest, y_pred))\n",
        "    print(\"Precision: %.3f\" % metrics.precision_score(ytest, y_pred))\n",
        "    print(\"F1: %.3f\" % metrics.f1_score(ytest, y_pred))\n",
        "    \n",
        "    proba = model.predict_proba(xtest)\n",
        "    print(\"Log loss: %.3f\" % metrics.log_loss(ytest, proba))\n",
        "\n",
        "    pos_prob = proba[:, 1]\n",
        "    print(\"Area under ROC curve: %.3f\" % metrics.roc_auc_score(ytest, pos_prob))\n",
        "    \n",
        "    cv = cross_val_score(model, xtest, ytest, cv = 10, scoring = 'accuracy')\n",
        "    print(\"Accuracy (cross validation score): %0.3f (+/- %0.3f)\" % (cv.mean(), cv.std() * 2))\n",
        "\n",
        "    print(\"confusion matrix\")\n",
        "    print( metrics.confusion_matrix(ytest, y_pred) )\n",
        "    \n",
        "    return y_pred"
      ],
      "execution_count": 12,
      "outputs": []
    },
    {
      "cell_type": "markdown",
      "metadata": {
        "id": "Jll9NuupI9xi"
      },
      "source": [
        "## Training and testing our models"
      ]
    },
    {
      "cell_type": "markdown",
      "metadata": {
        "id": "TmPmA8NgIGPn"
      },
      "source": [
        "Get the different Data Sets"
      ]
    },
    {
      "cell_type": "code",
      "metadata": {
        "id": "UQQCnil1JqiT"
      },
      "source": [
        "#Original data\n",
        "dA = createDataSet(game_data,False,False)\n",
        "#PCA with Normalized Data\n",
        "dB = createDataSet(game_data,True,True)\n",
        "#PCA Data\n",
        "dC = createDataSet(game_data,True,False)\n",
        "#Normalized Data\n",
        "dD = createDataSet(game_data,False,True)"
      ],
      "execution_count": 13,
      "outputs": []
    },
    {
      "cell_type": "markdown",
      "metadata": {
        "id": "ZIF3M6wQOady"
      },
      "source": [
        "**Results using Original Data (NO PCA or Normalization)**"
      ]
    },
    {
      "cell_type": "code",
      "metadata": {
        "colab": {
          "base_uri": "https://localhost:8080/"
        },
        "id": "eMVcNEtmdibd",
        "outputId": "bcff6860-3959-4e86-a49d-7ecceeaa0e2f"
      },
      "source": [
        "trainA, testA = train_test_split( dA, test_size = 0.25,random_state = 20)\n",
        "\n",
        "xtrain = trainA[:, :-1] # for all but last column\n",
        "ytrain = trainA[:, -1].astype(int) # for last column (result label )\n",
        "\n",
        "xtest = testA[:, :-1] \n",
        "ytest = testA[:, -1].astype(int) \n",
        "\n",
        "print(\"Training set size: %.0f\" % len(xtrain))\n",
        "print(\"Testing set size: %.0f\" % len(xtest))\n",
        "print()\n",
        "\n",
        "\n",
        "print(\"SVM STATS\")\n",
        "#svc = SVC(probability=True)\n",
        "svc = SVC(kernel='rbf',C=100,probability=True)\n",
        "y_svc = scores(svc)\n",
        "print()\n",
        "\n",
        "print(\"knn STATS\")\n",
        "knn = neighbors.KNeighborsClassifier(n_neighbors = 12, weights = 'uniform')\n",
        "y_knn = scores(knn)\n",
        "print()\n",
        "\n",
        "print(\"logreg STATS\")\n",
        "logreg = LogisticRegression(max_iter=10000)\n",
        "y_log = scores(logreg)"
      ],
      "execution_count": 15,
      "outputs": [
        {
          "output_type": "stream",
          "text": [
            "Training set size: 957\n",
            "Testing set size: 320\n",
            "\n",
            "SVM STATS\n",
            "Accuracy score: 0.644\n",
            "Recall: 0.995\n",
            "Precision: 0.634\n",
            "F1: 0.775\n",
            "Log loss: 0.621\n",
            "Area under ROC curve: 0.726\n",
            "Accuracy (cross validation score): 0.656 (+/- 0.097)\n",
            "confusion matrix\n",
            "[[ 10 113]\n",
            " [  1 196]]\n",
            "\n",
            "knn STATS\n",
            "Accuracy score: 0.662\n",
            "Recall: 0.736\n",
            "Precision: 0.721\n",
            "F1: 0.729\n",
            "Log loss: 0.620\n",
            "Area under ROC curve: 0.677\n",
            "Accuracy (cross validation score): 0.650 (+/- 0.104)\n",
            "confusion matrix\n",
            "[[ 67  56]\n",
            " [ 52 145]]\n",
            "\n",
            "logreg STATS\n",
            "Accuracy score: 0.678\n",
            "Recall: 0.832\n",
            "Precision: 0.701\n",
            "F1: 0.761\n",
            "Log loss: 0.595\n",
            "Area under ROC curve: 0.712\n",
            "Accuracy (cross validation score): 0.662 (+/- 0.145)\n",
            "confusion matrix\n",
            "[[ 53  70]\n",
            " [ 33 164]]\n"
          ],
          "name": "stdout"
        }
      ]
    },
    {
      "cell_type": "markdown",
      "metadata": {
        "id": "BxUwru9tOmS5"
      },
      "source": [
        "**Results using PCA Data**"
      ]
    },
    {
      "cell_type": "code",
      "metadata": {
        "colab": {
          "base_uri": "https://localhost:8080/"
        },
        "id": "JXc8A5xrg00R",
        "outputId": "4666cbaa-ae22-4803-c2ee-9048f1016a26"
      },
      "source": [
        "trainA, testA = train_test_split( dC, test_size = 0.25,random_state = 20)\n",
        "\n",
        "xtrain = trainA[:, :-1] # for all but last column\n",
        "ytrain = trainA[:, -1].astype(int) # for last column (result label )\n",
        "\n",
        "xtest = testA[:, :-1] \n",
        "ytest = testA[:, -1].astype(int) \n",
        "\n",
        "\n",
        "print(\"SVM STATS\")\n",
        "#svc = SVC(probability=True)\n",
        "svc = SVC(kernel='rbf',probability=True)\n",
        "y_svc = scores(svc)\n",
        "print()\n",
        "\n",
        "print(\"knn STATS\")\n",
        "knn = neighbors.KNeighborsClassifier(n_neighbors = 18, weights = 'uniform')\n",
        "y_knn = scores(knn)\n",
        "print()\n",
        "\n",
        "print(\"logreg STATS\")\n",
        "logreg = LogisticRegression(max_iter=10000)\n",
        "y_log = scores(logreg)"
      ],
      "execution_count": 17,
      "outputs": [
        {
          "output_type": "stream",
          "text": [
            "SVM STATS\n",
            "Accuracy score: 0.684\n",
            "Recall: 0.853\n",
            "Precision: 0.700\n",
            "F1: 0.769\n",
            "Log loss: 0.599\n",
            "Area under ROC curve: 0.744\n",
            "Accuracy (cross validation score): 0.669 (+/- 0.070)\n",
            "confusion matrix\n",
            "[[ 51  72]\n",
            " [ 29 168]]\n",
            "\n",
            "knn STATS\n",
            "Accuracy score: 0.675\n",
            "Recall: 0.797\n",
            "Precision: 0.710\n",
            "F1: 0.751\n",
            "Log loss: 0.599\n",
            "Area under ROC curve: 0.718\n",
            "Accuracy (cross validation score): 0.684 (+/- 0.152)\n",
            "confusion matrix\n",
            "[[ 59  64]\n",
            " [ 40 157]]\n",
            "\n",
            "logreg STATS\n",
            "Accuracy score: 0.650\n",
            "Recall: 0.802\n",
            "Precision: 0.684\n",
            "F1: 0.738\n",
            "Log loss: 0.603\n",
            "Area under ROC curve: 0.710\n",
            "Accuracy (cross validation score): 0.688 (+/- 0.097)\n",
            "confusion matrix\n",
            "[[ 50  73]\n",
            " [ 39 158]]\n"
          ],
          "name": "stdout"
        }
      ]
    },
    {
      "cell_type": "markdown",
      "metadata": {
        "id": "9S11xls3OyEG"
      },
      "source": [
        "**Results using Normalized Data**"
      ]
    },
    {
      "cell_type": "code",
      "metadata": {
        "colab": {
          "base_uri": "https://localhost:8080/"
        },
        "id": "GC-IJPeig_U1",
        "outputId": "20efbcca-d6a0-448b-87b5-80433f3b1a1a"
      },
      "source": [
        "trainA, testA = train_test_split( dD, test_size = 0.25,random_state = 20)\n",
        "\n",
        "xtrain = trainA[:, :-1] # for all but last column\n",
        "ytrain = trainA[:, -1].astype(int) # for last column (result label )\n",
        "\n",
        "xtest = testA[:, :-1] \n",
        "ytest = testA[:, -1].astype(int) \n",
        "\n",
        "\n",
        "print(\"SVM STATS\")\n",
        "#svc = SVC(probability=True)\n",
        "svc = SVC(kernel='rbf',C=100,probability=True)\n",
        "y_svc = scores(svc)\n",
        "print()\n",
        "\n",
        "print(\"knn STATS\")\n",
        "knn = neighbors.KNeighborsClassifier()\n",
        "y_knn = scores(knn)\n",
        "print()\n",
        "\n",
        "print(\"logreg STATS\")\n",
        "logreg = LogisticRegression(max_iter=10000)\n",
        "y_log = scores(logreg)"
      ],
      "execution_count": 18,
      "outputs": [
        {
          "output_type": "stream",
          "text": [
            "SVM STATS\n",
            "Accuracy score: 0.606\n",
            "Recall: 0.701\n",
            "Precision: 0.673\n",
            "F1: 0.687\n",
            "Log loss: 0.635\n",
            "Area under ROC curve: 0.654\n",
            "Accuracy (cross validation score): 0.647 (+/- 0.192)\n",
            "confusion matrix\n",
            "[[ 56  67]\n",
            " [ 59 138]]\n",
            "\n",
            "knn STATS\n",
            "Accuracy score: 0.597\n",
            "Recall: 0.695\n",
            "Precision: 0.665\n",
            "F1: 0.680\n",
            "Log loss: 1.894\n",
            "Area under ROC curve: 0.611\n",
            "Accuracy (cross validation score): 0.669 (+/- 0.113)\n",
            "confusion matrix\n",
            "[[ 54  69]\n",
            " [ 60 137]]\n",
            "\n",
            "logreg STATS\n",
            "Accuracy score: 0.684\n",
            "Recall: 0.863\n",
            "Precision: 0.697\n",
            "F1: 0.771\n",
            "Log loss: 0.605\n",
            "Area under ROC curve: 0.708\n",
            "Accuracy (cross validation score): 0.653 (+/- 0.154)\n",
            "confusion matrix\n",
            "[[ 49  74]\n",
            " [ 27 170]]\n"
          ],
          "name": "stdout"
        }
      ]
    },
    {
      "cell_type": "markdown",
      "metadata": {
        "id": "EiOq3cq4O8yX"
      },
      "source": [
        "**Results using PCA with Normalized Data**"
      ]
    },
    {
      "cell_type": "code",
      "metadata": {
        "colab": {
          "base_uri": "https://localhost:8080/"
        },
        "id": "MelsmoY0dThL",
        "outputId": "077df668-2274-4e83-9571-f9b726056066"
      },
      "source": [
        "trainA, testA = train_test_split( dB, test_size = 0.25,random_state = 20)\n",
        "\n",
        "xtrain = trainA[:, :-1] # for all but last column\n",
        "ytrain = trainA[:, -1].astype(int) # for last column (result label )\n",
        "\n",
        "xtest = testA[:, :-1] \n",
        "ytest = testA[:, -1].astype(int) \n",
        "\n",
        "\n",
        "print(\"SVM STATS\")\n",
        "#svc = SVC(probability=True)\n",
        "svc = SVC(kernel='rbf',probability=True)\n",
        "y_svc = scores(svc)\n",
        "print()\n",
        "\n",
        "print(\"knn STATS\")\n",
        "knn = neighbors.KNeighborsClassifier(n_neighbors = 12, weights = 'uniform')\n",
        "y_knn = scores(knn)\n",
        "print()\n",
        "\n",
        "print(\"logreg STATS\")\n",
        "logreg = LogisticRegression(max_iter=10000)\n",
        "y_log = scores(logreg)"
      ],
      "execution_count": null,
      "outputs": [
        {
          "output_type": "stream",
          "text": [
            "SVM STATS\n",
            "Accuracy score: 0.706\n",
            "Recall: 0.843\n",
            "Precision: 0.725\n",
            "F1: 0.779\n",
            "Log loss: 0.607\n",
            "Area under ROC curve: 0.717\n",
            "Accuracy (cross validation score): 0.650 (+/- 0.121)\n",
            "confusion matrix\n",
            "[[ 60  63]\n",
            " [ 31 166]]\n",
            "\n",
            "knn STATS\n",
            "Accuracy score: 0.637\n",
            "Recall: 0.701\n",
            "Precision: 0.708\n",
            "F1: 0.704\n",
            "Log loss: 0.611\n",
            "Area under ROC curve: 0.685\n",
            "Accuracy (cross validation score): 0.628 (+/- 0.099)\n",
            "confusion matrix\n",
            "[[ 66  57]\n",
            " [ 59 138]]\n",
            "\n",
            "logreg STATS\n",
            "Accuracy score: 0.672\n",
            "Recall: 0.848\n",
            "Precision: 0.690\n",
            "F1: 0.761\n",
            "Log loss: 0.618\n",
            "Area under ROC curve: 0.687\n",
            "Accuracy (cross validation score): 0.653 (+/- 0.081)\n",
            "confusion matrix\n",
            "[[ 48  75]\n",
            " [ 30 167]]\n"
          ],
          "name": "stdout"
        }
      ]
    }
  ]
}