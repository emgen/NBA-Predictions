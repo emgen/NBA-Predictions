{
  "nbformat": 4,
  "nbformat_minor": 0,
  "metadata": {
    "colab": {
      "name": "2005_NBA_Game_Outcome_Predictions.ipynb",
      "provenance": []
    },
    "kernelspec": {
      "name": "python3",
      "display_name": "Python 3"
    }
  },
  "cells": [
    {
      "cell_type": "markdown",
      "metadata": {
        "id": "E3k1nVJK6A4O"
      },
      "source": [
        "## Import Dependencies "
      ]
    },
    {
      "cell_type": "code",
      "metadata": {
        "id": "4FgY-tgA1l4J"
      },
      "source": [
        "import pandas as pd\n",
        "import numpy as np\n",
        "import matplotlib.pyplot as plt\n",
        "import seaborn as sns\n",
        "import requests\n",
        "import lxml.html as lh\n",
        "from sklearn.decomposition import PCA\n",
        "from sklearn import preprocessing\n",
        "%matplotlib inline\n",
        "plt.style.use('fivethirtyeight')\n",
        "pd.set_option('display.max_columns', None)\n",
        "import os\n",
        "import numpy as np\n",
        "import os\n",
        "from sklearn.model_selection import train_test_split\n",
        "from sklearn.svm import SVC\n",
        "from sklearn import neighbors\n",
        "from sklearn.neural_network import MLPClassifier\n",
        "import sklearn.metrics as metrics\n",
        "from sklearn.model_selection import KFold\n",
        "from operator import itemgetter\n",
        "from sklearn.model_selection import cross_val_score\n",
        "from sklearn.linear_model import LogisticRegression"
      ],
      "execution_count": null,
      "outputs": []
    },
    {
      "cell_type": "markdown",
      "metadata": {
        "id": "WkbhYZID4VWW"
      },
      "source": [
        "# Get Data"
      ]
    },
    {
      "cell_type": "markdown",
      "metadata": {
        "id": "cmfwIo7yI16j"
      },
      "source": [
        "List of NBA Teams"
      ]
    },
    {
      "cell_type": "code",
      "metadata": {
        "id": "Ov5yrRYKLWfy"
      },
      "source": [
        "TEAMS_ID_NAME=[['1610612737', 'ATL'],\n",
        " ['1610612738', 'BOS'],\n",
        " ['1610612741', 'CHI'],\n",
        " ['1610612766', 'CHR'],\n",
        " ['1610612739', 'CLE'],\n",
        " ['1610612742', 'DAL'],\n",
        " ['1610612743' ,'DEN'],\n",
        " ['1610612765' ,'DET'],\n",
        " ['1610612744', 'GSW'],\n",
        " ['1610612745' ,'HOU'],\n",
        " ['1610612754' ,'IND'],\n",
        " ['1610612746' ,'LAC'],\n",
        " ['1610612747' ,'LAL'],\n",
        " ['1610612763' ,'MEM'],\n",
        " ['1610612748' ,'MIA'],\n",
        " ['1610612749' ,'MIL'],\n",
        " ['1610612750' ,'MIN'],\n",
        " ['1610612751' ,'NJN'],\n",
        " ['1610612740' ,'NOH'],\n",
        " ['1610612752' ,'NYK'],\n",
        " ['1610612753' ,'ORL'],\n",
        " ['1610612755' ,'PHI'],\n",
        " ['1610612756' ,'PHO'],\n",
        " ['1610612757' ,'POR'],\n",
        " ['1610612758' ,'SAC'],\n",
        " ['1610612759' ,'SAS'],\n",
        " ['1610612760' ,'SEA'],\n",
        " ['1610612761' ,'TOR'],\n",
        " ['1610612762' ,'UTA'],\n",
        " ['1610612764' ,'WAS']]"
      ],
      "execution_count": null,
      "outputs": []
    },
    {
      "cell_type": "code",
      "metadata": {
        "id": "W31wMbqGJ8fi"
      },
      "source": [
        "# List of team ID's\n",
        "team_ID = [1610612737, 1610612738, 1610612741, 1610612766, 1610612739, 1610612742, 1610612743, 1610612765, 1610612744, 1610612745, 1610612754, 1610612746, 1610612747, 1610612763, 1610612748, 1610612749, 1610612750, 1610612751, 1610612740, 1610612752, 1610612753, 1610612755, 1610612756, 1610612757, 1610612758, 1610612759, 1610612760, 1610612761, 1610612762, 1610612764]\n"
      ],
      "execution_count": null,
      "outputs": []
    },
    {
      "cell_type": "markdown",
      "metadata": {
        "id": "rTB53vW-6-iT"
      },
      "source": [
        "##Team Season Data"
      ]
    },
    {
      "cell_type": "code",
      "metadata": {
        "id": "iTavoRRM4c8H"
      },
      "source": [
        "d = os.path.join(\"/content/team_season.txt\")\n",
        "team_season = np.loadtxt(d, delimiter=',', dtype='str')\n",
        "# get header\n",
        "header = team_season[0]\n",
        "# remove first row, header\n",
        "team_season = team_season[1:]\n",
        "# convert it to an CSV file\n",
        "pd.DataFrame(team_season).to_csv(\"team_stats.csv\", header = header,index=False)"
      ],
      "execution_count": null,
      "outputs": []
    },
    {
      "cell_type": "code",
      "metadata": {
        "colab": {
          "base_uri": "https://localhost:8080/",
          "height": 204
        },
        "id": "OTzi160_8j0t",
        "outputId": "c8fad92a-6f09-4f14-a73e-ef8159dc1d46"
      },
      "source": [
        "# list of features we want to take from the team season data\n",
        "col_list = [\"team\", \"year\",'o_ftm','o_reb' ,'o_asts' ,'o_pf' ,'o_stl' ,'o_to' ,'o_blk', 'o_3pm','o_pts',\n",
        " 'd_ftm' ,'d_reb', 'd_asts' ,'d_pf',\n",
        " 'd_stl', 'd_to', 'd_blk','d_3pm','d_pts','won','lost']\n",
        "\n",
        "team_stats = pd.read_csv(\"team_stats.csv\",usecols=col_list)\n",
        "\n",
        "#get team stats for 2004\n",
        "stats_df = team_stats.loc[team_stats[\"year\"] == 2004]\n",
        "stats_df.head()"
      ],
      "execution_count": null,
      "outputs": [
        {
          "output_type": "execute_result",
          "data": {
            "text/html": [
              "<div>\n",
              "<style scoped>\n",
              "    .dataframe tbody tr th:only-of-type {\n",
              "        vertical-align: middle;\n",
              "    }\n",
              "\n",
              "    .dataframe tbody tr th {\n",
              "        vertical-align: top;\n",
              "    }\n",
              "\n",
              "    .dataframe thead th {\n",
              "        text-align: right;\n",
              "    }\n",
              "</style>\n",
              "<table border=\"1\" class=\"dataframe\">\n",
              "  <thead>\n",
              "    <tr style=\"text-align: right;\">\n",
              "      <th></th>\n",
              "      <th>team</th>\n",
              "      <th>year</th>\n",
              "      <th>o_ftm</th>\n",
              "      <th>o_reb</th>\n",
              "      <th>o_asts</th>\n",
              "      <th>o_pf</th>\n",
              "      <th>o_stl</th>\n",
              "      <th>o_to</th>\n",
              "      <th>o_blk</th>\n",
              "      <th>o_3pm</th>\n",
              "      <th>o_pts</th>\n",
              "      <th>d_ftm</th>\n",
              "      <th>d_reb</th>\n",
              "      <th>d_asts</th>\n",
              "      <th>d_pf</th>\n",
              "      <th>d_stl</th>\n",
              "      <th>d_to</th>\n",
              "      <th>d_blk</th>\n",
              "      <th>d_3pm</th>\n",
              "      <th>d_pts</th>\n",
              "      <th>won</th>\n",
              "      <th>lost</th>\n",
              "    </tr>\n",
              "  </thead>\n",
              "  <tbody>\n",
              "    <tr>\n",
              "      <th>1157</th>\n",
              "      <td>ATL</td>\n",
              "      <td>2004</td>\n",
              "      <td>1417</td>\n",
              "      <td>3435</td>\n",
              "      <td>1614</td>\n",
              "      <td>2009</td>\n",
              "      <td>629</td>\n",
              "      <td>1319</td>\n",
              "      <td>344</td>\n",
              "      <td>304</td>\n",
              "      <td>7605</td>\n",
              "      <td>1846</td>\n",
              "      <td>3385</td>\n",
              "      <td>1803</td>\n",
              "      <td>1777</td>\n",
              "      <td>716</td>\n",
              "      <td>1235</td>\n",
              "      <td>484</td>\n",
              "      <td>467</td>\n",
              "      <td>8401</td>\n",
              "      <td>13</td>\n",
              "      <td>69</td>\n",
              "    </tr>\n",
              "    <tr>\n",
              "      <th>1158</th>\n",
              "      <td>BOS</td>\n",
              "      <td>2004</td>\n",
              "      <td>1775</td>\n",
              "      <td>3347</td>\n",
              "      <td>1810</td>\n",
              "      <td>2000</td>\n",
              "      <td>667</td>\n",
              "      <td>1297</td>\n",
              "      <td>423</td>\n",
              "      <td>437</td>\n",
              "      <td>8304</td>\n",
              "      <td>1825</td>\n",
              "      <td>3466</td>\n",
              "      <td>1859</td>\n",
              "      <td>1937</td>\n",
              "      <td>714</td>\n",
              "      <td>1248</td>\n",
              "      <td>402</td>\n",
              "      <td>488</td>\n",
              "      <td>8233</td>\n",
              "      <td>45</td>\n",
              "      <td>37</td>\n",
              "    </tr>\n",
              "    <tr>\n",
              "      <th>1159</th>\n",
              "      <td>CHI</td>\n",
              "      <td>2004</td>\n",
              "      <td>1536</td>\n",
              "      <td>3592</td>\n",
              "      <td>1743</td>\n",
              "      <td>2028</td>\n",
              "      <td>576</td>\n",
              "      <td>1371</td>\n",
              "      <td>369</td>\n",
              "      <td>511</td>\n",
              "      <td>7745</td>\n",
              "      <td>1716</td>\n",
              "      <td>3503</td>\n",
              "      <td>1715</td>\n",
              "      <td>1914</td>\n",
              "      <td>685</td>\n",
              "      <td>1272</td>\n",
              "      <td>434</td>\n",
              "      <td>416</td>\n",
              "      <td>7658</td>\n",
              "      <td>47</td>\n",
              "      <td>35</td>\n",
              "    </tr>\n",
              "    <tr>\n",
              "      <th>1160</th>\n",
              "      <td>CHR</td>\n",
              "      <td>2004</td>\n",
              "      <td>1487</td>\n",
              "      <td>3418</td>\n",
              "      <td>1794</td>\n",
              "      <td>1893</td>\n",
              "      <td>695</td>\n",
              "      <td>1192</td>\n",
              "      <td>440</td>\n",
              "      <td>320</td>\n",
              "      <td>7729</td>\n",
              "      <td>1748</td>\n",
              "      <td>3545</td>\n",
              "      <td>1768</td>\n",
              "      <td>1857</td>\n",
              "      <td>624</td>\n",
              "      <td>1304</td>\n",
              "      <td>446</td>\n",
              "      <td>442</td>\n",
              "      <td>8220</td>\n",
              "      <td>18</td>\n",
              "      <td>64</td>\n",
              "    </tr>\n",
              "    <tr>\n",
              "      <th>1161</th>\n",
              "      <td>CLE</td>\n",
              "      <td>2004</td>\n",
              "      <td>1634</td>\n",
              "      <td>3469</td>\n",
              "      <td>1851</td>\n",
              "      <td>1850</td>\n",
              "      <td>654</td>\n",
              "      <td>1141</td>\n",
              "      <td>461</td>\n",
              "      <td>300</td>\n",
              "      <td>7914</td>\n",
              "      <td>1601</td>\n",
              "      <td>3262</td>\n",
              "      <td>1737</td>\n",
              "      <td>1770</td>\n",
              "      <td>549</td>\n",
              "      <td>1226</td>\n",
              "      <td>419</td>\n",
              "      <td>422</td>\n",
              "      <td>7849</td>\n",
              "      <td>42</td>\n",
              "      <td>40</td>\n",
              "    </tr>\n",
              "  </tbody>\n",
              "</table>\n",
              "</div>"
            ],
            "text/plain": [
              "     team  year  o_ftm  o_reb  o_asts  o_pf  o_stl  o_to  o_blk  o_3pm  o_pts  \\\n",
              "1157  ATL  2004   1417   3435    1614  2009    629  1319    344    304   7605   \n",
              "1158  BOS  2004   1775   3347    1810  2000    667  1297    423    437   8304   \n",
              "1159  CHI  2004   1536   3592    1743  2028    576  1371    369    511   7745   \n",
              "1160  CHR  2004   1487   3418    1794  1893    695  1192    440    320   7729   \n",
              "1161  CLE  2004   1634   3469    1851  1850    654  1141    461    300   7914   \n",
              "\n",
              "      d_ftm  d_reb  d_asts  d_pf  d_stl  d_to  d_blk  d_3pm  d_pts  won  lost  \n",
              "1157   1846   3385    1803  1777    716  1235    484    467   8401   13    69  \n",
              "1158   1825   3466    1859  1937    714  1248    402    488   8233   45    37  \n",
              "1159   1716   3503    1715  1914    685  1272    434    416   7658   47    35  \n",
              "1160   1748   3545    1768  1857    624  1304    446    442   8220   18    64  \n",
              "1161   1601   3262    1737  1770    549  1226    419    422   7849   42    40  "
            ]
          },
          "metadata": {
            "tags": []
          },
          "execution_count": 6
        }
      ]
    },
    {
      "cell_type": "code",
      "metadata": {
        "id": "2UetGWx9De_L"
      },
      "source": [
        "TeamStats_2004 = np.array(stats_df)\n",
        "#skip first 2 columns (team name and year)\n",
        "team_stats = TeamStats_2004[:,2 :] "
      ],
      "execution_count": null,
      "outputs": []
    },
    {
      "cell_type": "markdown",
      "metadata": {
        "id": "HqJmY8_S_bxg"
      },
      "source": [
        "## Game Data"
      ]
    },
    {
      "cell_type": "code",
      "metadata": {
        "id": "BoHIWdA6KpvJ",
        "colab": {
          "base_uri": "https://localhost:8080/",
          "height": 204
        },
        "outputId": "61555bd3-fcf2-429d-c631-5107e211e589"
      },
      "source": [
        "col_list =[\"HOME_TEAM_ID\",\"VISITOR_TEAM_ID\",\"SEASON\", \"HOME_TEAM_WINS\"]\n",
        "game_data = pd.read_csv(\"games.csv\", usecols=col_list)\n",
        "# get games only for season 2005\n",
        "game_data = game_data.loc[game_data[\"SEASON\"] == 2005]\n",
        "game_data.head()"
      ],
      "execution_count": null,
      "outputs": [
        {
          "output_type": "execute_result",
          "data": {
            "text/html": [
              "<div>\n",
              "<style scoped>\n",
              "    .dataframe tbody tr th:only-of-type {\n",
              "        vertical-align: middle;\n",
              "    }\n",
              "\n",
              "    .dataframe tbody tr th {\n",
              "        vertical-align: top;\n",
              "    }\n",
              "\n",
              "    .dataframe thead th {\n",
              "        text-align: right;\n",
              "    }\n",
              "</style>\n",
              "<table border=\"1\" class=\"dataframe\">\n",
              "  <thead>\n",
              "    <tr style=\"text-align: right;\">\n",
              "      <th></th>\n",
              "      <th>HOME_TEAM_ID</th>\n",
              "      <th>VISITOR_TEAM_ID</th>\n",
              "      <th>SEASON</th>\n",
              "      <th>HOME_TEAM_WINS</th>\n",
              "    </tr>\n",
              "  </thead>\n",
              "  <tbody>\n",
              "    <tr>\n",
              "      <th>11654</th>\n",
              "      <td>1610612742</td>\n",
              "      <td>1610612748</td>\n",
              "      <td>2005</td>\n",
              "      <td>0</td>\n",
              "    </tr>\n",
              "    <tr>\n",
              "      <th>11655</th>\n",
              "      <td>1610612748</td>\n",
              "      <td>1610612742</td>\n",
              "      <td>2005</td>\n",
              "      <td>1</td>\n",
              "    </tr>\n",
              "    <tr>\n",
              "      <th>11656</th>\n",
              "      <td>1610612748</td>\n",
              "      <td>1610612742</td>\n",
              "      <td>2005</td>\n",
              "      <td>1</td>\n",
              "    </tr>\n",
              "    <tr>\n",
              "      <th>11657</th>\n",
              "      <td>1610612748</td>\n",
              "      <td>1610612742</td>\n",
              "      <td>2005</td>\n",
              "      <td>1</td>\n",
              "    </tr>\n",
              "    <tr>\n",
              "      <th>11658</th>\n",
              "      <td>1610612742</td>\n",
              "      <td>1610612748</td>\n",
              "      <td>2005</td>\n",
              "      <td>1</td>\n",
              "    </tr>\n",
              "  </tbody>\n",
              "</table>\n",
              "</div>"
            ],
            "text/plain": [
              "       HOME_TEAM_ID  VISITOR_TEAM_ID  SEASON  HOME_TEAM_WINS\n",
              "11654    1610612742       1610612748    2005               0\n",
              "11655    1610612748       1610612742    2005               1\n",
              "11656    1610612748       1610612742    2005               1\n",
              "11657    1610612748       1610612742    2005               1\n",
              "11658    1610612742       1610612748    2005               1"
            ]
          },
          "metadata": {
            "tags": []
          },
          "execution_count": 9
        }
      ]
    },
    {
      "cell_type": "code",
      "metadata": {
        "id": "WB9H3kJiGHaj"
      },
      "source": [
        "# convert into a np array\n",
        "game_data = np.array(game_data)"
      ],
      "execution_count": null,
      "outputs": []
    },
    {
      "cell_type": "markdown",
      "metadata": {
        "id": "ThgXliu_-_lI"
      },
      "source": [
        "# Create the Feature Vector"
      ]
    },
    {
      "cell_type": "code",
      "metadata": {
        "id": "aqurKFce0_Cy"
      },
      "source": [
        "def createDataSet(game_data,usePCA,isNormalized):\r\n",
        "  pca = PCA(n_components=18)\r\n",
        "  normalizer = preprocessing.MinMaxScaler()\r\n",
        "  data = []\r\n",
        "  for i in range(len(game_data)):\r\n",
        "\r\n",
        "    # find location home_team stats\r\n",
        "    find_index = np.where(team_ID == game_data[i][0])\r\n",
        "    index = find_index[0][0]\r\n",
        "    # get home_team stats\r\n",
        "    home_side = np.array(team_stats[index])\r\n",
        "\r\n",
        "  \r\n",
        "    # get away_team stats\r\n",
        "    find_index = np.where(team_ID == game_data[i][1])\r\n",
        "    index = find_index[0][0]\r\n",
        "    away_side =  np.array(team_stats[index])\r\n",
        "\r\n",
        "\r\n",
        "    # create feature vector concatenate home_team stats and away_team stats\r\n",
        "    feature_vector = np.concatenate((home_side, away_side), axis=None)\r\n",
        "\r\n",
        "    \r\n",
        "    # add fearure vector to data\r\n",
        "    data.append(feature_vector)\r\n",
        "\r\n",
        "  #NORMALIZE\r\n",
        "  if (isNormalized):\r\n",
        "    data = normalizer.fit_transform(data)\r\n",
        "\r\n",
        "  #reduce feature vector using PCA\r\n",
        "  if (usePCA):\r\n",
        "    data = pca.fit_transform(data)\r\n",
        "\r\n",
        "  ndata = []\r\n",
        "\r\n",
        "  for z in range(len(game_data)):\r\n",
        "    result = []\r\n",
        "    result.append(game_data[z][3])\r\n",
        "\r\n",
        "    # create feature vector by appending the outcome labled result of the game  \r\n",
        "    feature_vector = np.concatenate((data[z],result), axis=None)\r\n",
        "    ndata.append(feature_vector)\r\n",
        "\r\n",
        "  data = np.array(ndata)\r\n",
        "  \r\n",
        "  return data"
      ],
      "execution_count": null,
      "outputs": []
    },
    {
      "cell_type": "markdown",
      "metadata": {
        "id": "P8Bn7kOvCD-h"
      },
      "source": [
        "# ML Techniques"
      ]
    },
    {
      "cell_type": "markdown",
      "metadata": {
        "id": "9RtER72HIIhC"
      },
      "source": [
        "Scoring matrix "
      ]
    },
    {
      "cell_type": "code",
      "metadata": {
        "id": "PhoIhwKg19gr"
      },
      "source": [
        "def scores(model):\n",
        "    \n",
        "    model.fit(xtrain, ytrain)\n",
        "    y_pred = model.predict(xtest)\n",
        "    \n",
        "    print(\"Accuracy score: %.3f\" % metrics.accuracy_score(ytest, y_pred))\n",
        "    print(\"Recall: %.3f\" % metrics.recall_score(ytest, y_pred))\n",
        "    print(\"Precision: %.3f\" % metrics.precision_score(ytest, y_pred))\n",
        "    print(\"F1: %.3f\" % metrics.f1_score(ytest, y_pred))\n",
        "    \n",
        "    proba = model.predict_proba(xtest)\n",
        "    print(\"Log loss: %.3f\" % metrics.log_loss(ytest, proba))\n",
        "\n",
        "    pos_prob = proba[:, 1]\n",
        "    print(\"Area under ROC curve: %.3f\" % metrics.roc_auc_score(ytest, pos_prob))\n",
        "    \n",
        "    cv = cross_val_score(model, xtest, ytest, cv = 10, scoring = 'accuracy')\n",
        "    print(\"Accuracy (cross validation score): %0.3f (+/- %0.3f)\" % (cv.mean(), cv.std() * 2))\n",
        "\n",
        "    print(\"confusion matrix\")\n",
        "    print( metrics.confusion_matrix(ytest, y_pred) )\n",
        "    \n",
        "    return y_pred"
      ],
      "execution_count": null,
      "outputs": []
    },
    {
      "cell_type": "markdown",
      "metadata": {
        "id": "Jll9NuupI9xi"
      },
      "source": [
        "## Training and Testing our Models"
      ]
    },
    {
      "cell_type": "markdown",
      "metadata": {
        "id": "TmPmA8NgIGPn"
      },
      "source": [
        "Get the Different Data Sets"
      ]
    },
    {
      "cell_type": "code",
      "metadata": {
        "id": "UQQCnil1JqiT"
      },
      "source": [
        "#Original data\n",
        "dA = createDataSet(game_data,False,False)\n",
        "#PCA with Normalized Data\n",
        "dB = createDataSet(game_data,True,True)\n",
        "#PCA Data\n",
        "dC = createDataSet(game_data,True,False)\n",
        "#Normalized Data\n",
        "dD = createDataSet(game_data,False,True)"
      ],
      "execution_count": null,
      "outputs": []
    },
    {
      "cell_type": "markdown",
      "metadata": {
        "id": "5TMlqIcvILrf"
      },
      "source": [
        "**Results using Original Data (NO PCA or Normalization)**"
      ]
    },
    {
      "cell_type": "code",
      "metadata": {
        "colab": {
          "base_uri": "https://localhost:8080/"
        },
        "id": "eMVcNEtmdibd",
        "outputId": "86fa5bf5-b5a6-4d5c-ad41-2e51e21341f9"
      },
      "source": [
        "trainA, testA = train_test_split( dA, test_size = 0.25,random_state = 20)\n",
        "\n",
        "xtrain = trainA[:, :-1] # for all but last column\n",
        "ytrain = trainA[:, -1].astype(int) # for last column (result label )\n",
        "\n",
        "xtest = testA[:, :-1] \n",
        "ytest = testA[:, -1].astype(int) \n",
        "print(\"Training set size: %.0f\" % len(xtrain))\n",
        "print(\"Testing set size: %.0f\" % len(xtest))\n",
        "print()\n",
        "\n",
        "\n",
        "print(\"SVM STATS\")\n",
        "#svc = SVC(probability=True)\n",
        "svc = SVC(kernel='rbf',C=100,probability=True)\n",
        "y_svc = scores(svc)\n",
        "print()\n",
        "\n",
        "print(\"knn STATS\")\n",
        "knn = neighbors.KNeighborsClassifier(n_neighbors = 18, weights = 'uniform')\n",
        "y_knn = scores(knn)\n",
        "print()\n",
        "\n",
        "print(\"logreg STATS\")\n",
        "logreg = LogisticRegression(max_iter=10000)\n",
        "y_log = scores(logreg)"
      ],
      "execution_count": null,
      "outputs": [
        {
          "output_type": "stream",
          "text": [
            "Training set size: 1074\n",
            "Testing set size: 358\n",
            "\n",
            "SVM STATS\n",
            "Accuracy score: 0.634\n",
            "Recall: 0.877\n",
            "Precision: 0.649\n",
            "F1: 0.746\n",
            "Log loss: 0.629\n",
            "Area under ROC curve: 0.666\n",
            "Accuracy (cross validation score): 0.645 (+/- 0.129)\n",
            "confusion matrix\n",
            "[[ 35 104]\n",
            " [ 27 192]]\n",
            "\n",
            "knn STATS\n",
            "Accuracy score: 0.634\n",
            "Recall: 0.744\n",
            "Precision: 0.685\n",
            "F1: 0.713\n",
            "Log loss: 0.635\n",
            "Area under ROC curve: 0.654\n",
            "Accuracy (cross validation score): 0.642 (+/- 0.120)\n",
            "confusion matrix\n",
            "[[ 64  75]\n",
            " [ 56 163]]\n",
            "\n",
            "logreg STATS\n",
            "Accuracy score: 0.654\n",
            "Recall: 0.804\n",
            "Precision: 0.685\n",
            "F1: 0.739\n",
            "Log loss: 0.616\n",
            "Area under ROC curve: 0.685\n",
            "Accuracy (cross validation score): 0.625 (+/- 0.110)\n",
            "confusion matrix\n",
            "[[ 58  81]\n",
            " [ 43 176]]\n"
          ],
          "name": "stdout"
        }
      ]
    },
    {
      "cell_type": "markdown",
      "metadata": {
        "id": "ipxzhZvJLhq8"
      },
      "source": [
        "**Results using PCA Data**"
      ]
    },
    {
      "cell_type": "code",
      "metadata": {
        "colab": {
          "base_uri": "https://localhost:8080/"
        },
        "id": "JXc8A5xrg00R",
        "outputId": "9647782d-edf5-48a3-d949-9374b2515c41"
      },
      "source": [
        "trainA, testA = train_test_split( dC, test_size = 0.25,random_state = 20)\n",
        "\n",
        "xtrain = trainA[:, :-1] # for all but last column\n",
        "ytrain = trainA[:, -1].astype(int) # for last column (result label )\n",
        "\n",
        "xtest = testA[:, :-1] \n",
        "ytest = testA[:, -1].astype(int) \n",
        "\n",
        "\n",
        "print(\"SVM STATS\")\n",
        "#svc = SVC(probability=True)\n",
        "svc = SVC(kernel='rbf',probability=True)\n",
        "y_svc = scores(svc)\n",
        "print()\n",
        "\n",
        "print(\"knn STATS\")\n",
        "knn = neighbors.KNeighborsClassifier(n_neighbors = 18, weights = 'uniform')\n",
        "y_knn = scores(knn)\n",
        "print()\n",
        "\n",
        "print(\"logreg STATS\")\n",
        "logreg = LogisticRegression(max_iter=10000)\n",
        "y_log = scores(logreg)"
      ],
      "execution_count": null,
      "outputs": [
        {
          "output_type": "stream",
          "text": [
            "SVM STATS\n",
            "Accuracy score: 0.656\n",
            "Recall: 0.831\n",
            "Precision: 0.679\n",
            "F1: 0.747\n",
            "Log loss: 0.625\n",
            "Area under ROC curve: 0.680\n",
            "Accuracy (cross validation score): 0.640 (+/- 0.183)\n",
            "confusion matrix\n",
            "[[ 53  86]\n",
            " [ 37 182]]\n",
            "\n",
            "knn STATS\n",
            "Accuracy score: 0.656\n",
            "Recall: 0.763\n",
            "Precision: 0.702\n",
            "F1: 0.731\n",
            "Log loss: 0.630\n",
            "Area under ROC curve: 0.662\n",
            "Accuracy (cross validation score): 0.626 (+/- 0.136)\n",
            "confusion matrix\n",
            "[[ 68  71]\n",
            " [ 52 167]]\n",
            "\n",
            "logreg STATS\n",
            "Accuracy score: 0.628\n",
            "Recall: 0.817\n",
            "Precision: 0.658\n",
            "F1: 0.729\n",
            "Log loss: 0.627\n",
            "Area under ROC curve: 0.669\n",
            "Accuracy (cross validation score): 0.639 (+/- 0.201)\n",
            "confusion matrix\n",
            "[[ 46  93]\n",
            " [ 40 179]]\n"
          ],
          "name": "stdout"
        }
      ]
    },
    {
      "cell_type": "markdown",
      "metadata": {
        "id": "EfNu9IPhMIRo"
      },
      "source": [
        "**Results using Normalized Data**"
      ]
    },
    {
      "cell_type": "code",
      "metadata": {
        "colab": {
          "base_uri": "https://localhost:8080/"
        },
        "id": "GC-IJPeig_U1",
        "outputId": "dedb7b53-d637-450e-f7ff-2eb2f005c0ee"
      },
      "source": [
        "trainA, testA = train_test_split( dD, test_size = 0.25,random_state = 20)\n",
        "\n",
        "xtrain = trainA[:, :-1] # for all but last column\n",
        "ytrain = trainA[:, -1].astype(int) # for last column (result label )\n",
        "\n",
        "xtest = testA[:, :-1] \n",
        "ytest = testA[:, -1].astype(int) \n",
        "\n",
        "\n",
        "print(\"SVM STATS\")\n",
        "#svc = SVC(probability=True)\n",
        "svc = SVC(kernel='rbf',C=100,probability=True)\n",
        "y_svc = scores(svc)\n",
        "print()\n",
        "\n",
        "print(\"knn STATS\")\n",
        "knn = neighbors.KNeighborsClassifier(n_neighbors = 18, weights = 'uniform')\n",
        "y_knn = scores(knn)\n",
        "print()\n",
        "\n",
        "print(\"logreg STATS\")\n",
        "logreg = LogisticRegression(max_iter=10000)\n",
        "y_log = scores(logreg)"
      ],
      "execution_count": null,
      "outputs": [
        {
          "output_type": "stream",
          "text": [
            "SVM STATS\n",
            "Accuracy score: 0.561\n",
            "Recall: 0.598\n",
            "Precision: 0.655\n",
            "F1: 0.625\n",
            "Log loss: 0.661\n",
            "Area under ROC curve: 0.585\n",
            "Accuracy (cross validation score): 0.629 (+/- 0.172)\n",
            "confusion matrix\n",
            "[[ 70  69]\n",
            " [ 88 131]]\n",
            "\n",
            "knn STATS\n",
            "Accuracy score: 0.651\n",
            "Recall: 0.749\n",
            "Precision: 0.701\n",
            "F1: 0.724\n",
            "Log loss: 0.626\n",
            "Area under ROC curve: 0.676\n",
            "Accuracy (cross validation score): 0.645 (+/- 0.082)\n",
            "confusion matrix\n",
            "[[ 69  70]\n",
            " [ 55 164]]\n",
            "\n",
            "logreg STATS\n",
            "Accuracy score: 0.634\n",
            "Recall: 0.817\n",
            "Precision: 0.663\n",
            "F1: 0.732\n",
            "Log loss: 0.616\n",
            "Area under ROC curve: 0.684\n",
            "Accuracy (cross validation score): 0.645 (+/- 0.198)\n",
            "confusion matrix\n",
            "[[ 48  91]\n",
            " [ 40 179]]\n"
          ],
          "name": "stdout"
        }
      ]
    },
    {
      "cell_type": "markdown",
      "metadata": {
        "id": "rFb_dxLvLXkX"
      },
      "source": [
        "**Results using PCA with Normalized Data**"
      ]
    },
    {
      "cell_type": "code",
      "metadata": {
        "colab": {
          "base_uri": "https://localhost:8080/"
        },
        "id": "MelsmoY0dThL",
        "outputId": "f12f6a30-3399-4e8b-9900-2d5437148e22"
      },
      "source": [
        "trainA, testA = train_test_split( dB, test_size = 0.25,random_state = 20)\n",
        "\n",
        "xtrain = trainA[:, :-1] # for all but last column\n",
        "ytrain = trainA[:, -1].astype(int) # for last column (result label )\n",
        "\n",
        "xtest = testA[:, :-1] \n",
        "ytest = testA[:, -1].astype(int) \n",
        "\n",
        "\n",
        "print(\"SVM STATS\")\n",
        "#svc = SVC(probability=True)\n",
        "svc = SVC(kernel='rbf',probability=True)\n",
        "y_svc = scores(svc)\n",
        "print()\n",
        "\n",
        "print(\"knn STATS\")\n",
        "knn = neighbors.KNeighborsClassifier(n_neighbors = 18, weights = 'uniform')\n",
        "y_knn = scores(knn)\n",
        "print()\n",
        "\n",
        "print(\"logreg STATS\")\n",
        "logreg = LogisticRegression(max_iter=10000)\n",
        "y_log = scores(logreg)"
      ],
      "execution_count": null,
      "outputs": [
        {
          "output_type": "stream",
          "text": [
            "SVM STATS\n",
            "Accuracy score: 0.651\n",
            "Recall: 0.817\n",
            "Precision: 0.678\n",
            "F1: 0.741\n",
            "Log loss: 0.629\n",
            "Area under ROC curve: 0.674\n",
            "Accuracy (cross validation score): 0.639 (+/- 0.114)\n",
            "confusion matrix\n",
            "[[ 54  85]\n",
            " [ 40 179]]\n",
            "\n",
            "knn STATS\n",
            "Accuracy score: 0.645\n",
            "Recall: 0.753\n",
            "Precision: 0.693\n",
            "F1: 0.722\n",
            "Log loss: 0.628\n",
            "Area under ROC curve: 0.669\n",
            "Accuracy (cross validation score): 0.659 (+/- 0.126)\n",
            "confusion matrix\n",
            "[[ 66  73]\n",
            " [ 54 165]]\n",
            "\n",
            "logreg STATS\n",
            "Accuracy score: 0.631\n",
            "Recall: 0.817\n",
            "Precision: 0.661\n",
            "F1: 0.731\n",
            "Log loss: 0.627\n",
            "Area under ROC curve: 0.671\n",
            "Accuracy (cross validation score): 0.634 (+/- 0.176)\n",
            "confusion matrix\n",
            "[[ 47  92]\n",
            " [ 40 179]]\n"
          ],
          "name": "stdout"
        }
      ]
    }
  ]
}