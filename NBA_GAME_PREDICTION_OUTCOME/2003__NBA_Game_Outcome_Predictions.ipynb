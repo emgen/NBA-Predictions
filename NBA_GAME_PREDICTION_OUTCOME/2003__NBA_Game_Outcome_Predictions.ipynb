{
  "nbformat": 4,
  "nbformat_minor": 0,
  "metadata": {
    "colab": {
      "name": "2003__NBA_Game_Outcome_Predictions.ipynb",
      "provenance": []
    },
    "kernelspec": {
      "name": "python3",
      "display_name": "Python 3"
    }
  },
  "cells": [
    {
      "cell_type": "markdown",
      "metadata": {
        "id": "E3k1nVJK6A4O"
      },
      "source": [
        "## Import Dependencies "
      ]
    },
    {
      "cell_type": "code",
      "metadata": {
        "id": "y8BOl5-P6vdv"
      },
      "source": [
        "import pandas as pd\n",
        "import numpy as np\n",
        "import matplotlib.pyplot as plt\n",
        "import seaborn as sns\n",
        "import requests\n",
        "import lxml.html as lh\n",
        "from sklearn.decomposition import PCA\n",
        "from sklearn import preprocessing\n",
        "%matplotlib inline\n",
        "plt.style.use('fivethirtyeight')\n",
        "pd.set_option('display.max_columns', None)\n",
        "import os\n",
        "import numpy as np\n",
        "import os\n",
        "from sklearn.model_selection import train_test_split\n",
        "from sklearn.svm import SVC\n",
        "from sklearn import neighbors\n",
        "from sklearn.neural_network import MLPClassifier\n",
        "import sklearn.metrics as metrics\n",
        "from sklearn.model_selection import KFold\n",
        "from operator import itemgetter\n",
        "from sklearn.model_selection import cross_val_score\n",
        "from sklearn.linear_model import LogisticRegression"
      ],
      "execution_count": 1,
      "outputs": []
    },
    {
      "cell_type": "markdown",
      "metadata": {
        "id": "3CyCbu_j8Ykn"
      },
      "source": [
        "# Get Data"
      ]
    },
    {
      "cell_type": "markdown",
      "metadata": {
        "id": "cmfwIo7yI16j"
      },
      "source": [
        "List of NBA Teams"
      ]
    },
    {
      "cell_type": "code",
      "metadata": {
        "id": "Ov5yrRYKLWfy"
      },
      "source": [
        "TEAMS =[['1610612737', 'ATL'],\n",
        " ['1610612738', 'BOS'],\n",
        " ['1610612741', 'CHI'],\n",
        " ['1610612766', 'CHR'],\n",
        " ['1610612739', 'CLE'],\n",
        " ['1610612742', 'DAL'],\n",
        " ['1610612743' ,'DEN'],\n",
        " ['1610612765' ,'DET'],\n",
        " ['1610612744', 'GSW'],\n",
        " ['1610612745' ,'HOU'],\n",
        " ['1610612754' ,'IND'],\n",
        " ['1610612746' ,'LAC'],\n",
        " ['1610612747' ,'LAL'],\n",
        " ['1610612763' ,'MEM'],\n",
        " ['1610612748' ,'MIA'],\n",
        " ['1610612749' ,'MIL'],\n",
        " ['1610612750' ,'MIN'],\n",
        " ['1610612751' ,'NJN'],\n",
        " ['1610612740' ,'NOH'],\n",
        " ['1610612752' ,'NYK'],\n",
        " ['1610612753' ,'ORL'],\n",
        " ['1610612755' ,'PHI'],\n",
        " ['1610612756' ,'PHO'],\n",
        " ['1610612757' ,'POR'],\n",
        " ['1610612758' ,'SAC'],\n",
        " ['1610612759' ,'SAS'],\n",
        " ['1610612760' ,'SEA'],\n",
        " ['1610612761' ,'TOR'],\n",
        " ['1610612762' ,'UTA'],\n",
        " ['1610612764' ,'WAS']]"
      ],
      "execution_count": 2,
      "outputs": []
    },
    {
      "cell_type": "code",
      "metadata": {
        "id": "W31wMbqGJ8fi"
      },
      "source": [
        "# take out CHR Team (ID 1610612766) as there is no season data for it in 2002\n",
        "# Team ID \n",
        "team_ID = [1610612737, 1610612738, 1610612741, 1610612739, 1610612742, 1610612743, 1610612765, 1610612744, 1610612745, 1610612754, 1610612746, 1610612747, 1610612763, 1610612748, 1610612749, 1610612750, 1610612751, 1610612740, 1610612752, 1610612753, 1610612755, 1610612756, 1610612757, 1610612758, 1610612759, 1610612760, 1610612761, 1610612762, 1610612764]"
      ],
      "execution_count": 3,
      "outputs": []
    },
    {
      "cell_type": "markdown",
      "metadata": {
        "id": "rTB53vW-6-iT"
      },
      "source": [
        "##Team Season Data"
      ]
    },
    {
      "cell_type": "code",
      "metadata": {
        "id": "iTavoRRM4c8H"
      },
      "source": [
        "d = os.path.join(\"/content/team_season.txt\")\n",
        "team_season = np.loadtxt(d, delimiter=',', dtype='str')\n",
        "# get header\n",
        "header = team_season[0]\n",
        "# remove first row, header\n",
        "team_season = team_season[1:]\n",
        "# convert it to an CSV file\n",
        "pd.DataFrame(team_season).to_csv(\"team_stats.csv\", header = header,index=False)"
      ],
      "execution_count": 5,
      "outputs": []
    },
    {
      "cell_type": "code",
      "metadata": {
        "colab": {
          "base_uri": "https://localhost:8080/",
          "height": 204
        },
        "id": "OTzi160_8j0t",
        "outputId": "35cf3ad2-fafb-4b75-919a-482787325cce"
      },
      "source": [
        "col_list = [\"team\", \"year\",'o_ftm','o_reb' ,'o_asts' ,'o_pf' ,'o_stl' ,'o_to' ,'o_blk', 'o_3pm','o_pts',\n",
        " 'd_ftm' ,'d_reb', 'd_asts' ,'d_pf',\n",
        " 'd_stl', 'd_to', 'd_blk','d_3pm','d_pts','won','lost']\n",
        "\n",
        "team_stats = pd.read_csv(\"team_stats.csv\",usecols=col_list)\n",
        "\n",
        "#get team stats for 2002\n",
        "stats_df = team_stats.loc[team_stats[\"year\"] == 2002]\n",
        "stats_df.head()"
      ],
      "execution_count": 6,
      "outputs": [
        {
          "output_type": "execute_result",
          "data": {
            "text/html": [
              "<div>\n",
              "<style scoped>\n",
              "    .dataframe tbody tr th:only-of-type {\n",
              "        vertical-align: middle;\n",
              "    }\n",
              "\n",
              "    .dataframe tbody tr th {\n",
              "        vertical-align: top;\n",
              "    }\n",
              "\n",
              "    .dataframe thead th {\n",
              "        text-align: right;\n",
              "    }\n",
              "</style>\n",
              "<table border=\"1\" class=\"dataframe\">\n",
              "  <thead>\n",
              "    <tr style=\"text-align: right;\">\n",
              "      <th></th>\n",
              "      <th>team</th>\n",
              "      <th>year</th>\n",
              "      <th>o_ftm</th>\n",
              "      <th>o_reb</th>\n",
              "      <th>o_asts</th>\n",
              "      <th>o_pf</th>\n",
              "      <th>o_stl</th>\n",
              "      <th>o_to</th>\n",
              "      <th>o_blk</th>\n",
              "      <th>o_3pm</th>\n",
              "      <th>o_pts</th>\n",
              "      <th>d_ftm</th>\n",
              "      <th>d_reb</th>\n",
              "      <th>d_asts</th>\n",
              "      <th>d_pf</th>\n",
              "      <th>d_stl</th>\n",
              "      <th>d_to</th>\n",
              "      <th>d_blk</th>\n",
              "      <th>d_3pm</th>\n",
              "      <th>d_pts</th>\n",
              "      <th>won</th>\n",
              "      <th>lost</th>\n",
              "    </tr>\n",
              "  </thead>\n",
              "  <tbody>\n",
              "    <tr>\n",
              "      <th>1099</th>\n",
              "      <td>ATL</td>\n",
              "      <td>2002</td>\n",
              "      <td>1594</td>\n",
              "      <td>3495</td>\n",
              "      <td>1679</td>\n",
              "      <td>1783</td>\n",
              "      <td>611</td>\n",
              "      <td>1304</td>\n",
              "      <td>474</td>\n",
              "      <td>402</td>\n",
              "      <td>7714</td>\n",
              "      <td>1530</td>\n",
              "      <td>3492</td>\n",
              "      <td>1771</td>\n",
              "      <td>1668</td>\n",
              "      <td>738</td>\n",
              "      <td>1020</td>\n",
              "      <td>399</td>\n",
              "      <td>446</td>\n",
              "      <td>8006</td>\n",
              "      <td>35</td>\n",
              "      <td>47</td>\n",
              "    </tr>\n",
              "    <tr>\n",
              "      <th>1100</th>\n",
              "      <td>BOS</td>\n",
              "      <td>2002</td>\n",
              "      <td>1480</td>\n",
              "      <td>3320</td>\n",
              "      <td>1575</td>\n",
              "      <td>1758</td>\n",
              "      <td>720</td>\n",
              "      <td>1105</td>\n",
              "      <td>303</td>\n",
              "      <td>719</td>\n",
              "      <td>7599</td>\n",
              "      <td>1560</td>\n",
              "      <td>3687</td>\n",
              "      <td>1824</td>\n",
              "      <td>1798</td>\n",
              "      <td>617</td>\n",
              "      <td>1256</td>\n",
              "      <td>368</td>\n",
              "      <td>463</td>\n",
              "      <td>7631</td>\n",
              "      <td>44</td>\n",
              "      <td>38</td>\n",
              "    </tr>\n",
              "    <tr>\n",
              "      <th>1101</th>\n",
              "      <td>CHI</td>\n",
              "      <td>2002</td>\n",
              "      <td>1455</td>\n",
              "      <td>3526</td>\n",
              "      <td>1782</td>\n",
              "      <td>2028</td>\n",
              "      <td>605</td>\n",
              "      <td>1330</td>\n",
              "      <td>461</td>\n",
              "      <td>349</td>\n",
              "      <td>7786</td>\n",
              "      <td>1794</td>\n",
              "      <td>3689</td>\n",
              "      <td>1949</td>\n",
              "      <td>1795</td>\n",
              "      <td>769</td>\n",
              "      <td>1163</td>\n",
              "      <td>413</td>\n",
              "      <td>431</td>\n",
              "      <td>8207</td>\n",
              "      <td>30</td>\n",
              "      <td>52</td>\n",
              "    </tr>\n",
              "    <tr>\n",
              "      <th>1102</th>\n",
              "      <td>CLE</td>\n",
              "      <td>2002</td>\n",
              "      <td>1502</td>\n",
              "      <td>3660</td>\n",
              "      <td>1712</td>\n",
              "      <td>1864</td>\n",
              "      <td>636</td>\n",
              "      <td>1430</td>\n",
              "      <td>521</td>\n",
              "      <td>293</td>\n",
              "      <td>7495</td>\n",
              "      <td>1712</td>\n",
              "      <td>3423</td>\n",
              "      <td>1972</td>\n",
              "      <td>1709</td>\n",
              "      <td>802</td>\n",
              "      <td>1112</td>\n",
              "      <td>486</td>\n",
              "      <td>428</td>\n",
              "      <td>8284</td>\n",
              "      <td>17</td>\n",
              "      <td>65</td>\n",
              "    </tr>\n",
              "    <tr>\n",
              "      <th>1103</th>\n",
              "      <td>DAL</td>\n",
              "      <td>2002</td>\n",
              "      <td>1486</td>\n",
              "      <td>3456</td>\n",
              "      <td>1837</td>\n",
              "      <td>1730</td>\n",
              "      <td>665</td>\n",
              "      <td>906</td>\n",
              "      <td>449</td>\n",
              "      <td>636</td>\n",
              "      <td>8444</td>\n",
              "      <td>1477</td>\n",
              "      <td>3726</td>\n",
              "      <td>1781</td>\n",
              "      <td>1744</td>\n",
              "      <td>546</td>\n",
              "      <td>1259</td>\n",
              "      <td>318</td>\n",
              "      <td>477</td>\n",
              "      <td>7806</td>\n",
              "      <td>60</td>\n",
              "      <td>22</td>\n",
              "    </tr>\n",
              "  </tbody>\n",
              "</table>\n",
              "</div>"
            ],
            "text/plain": [
              "     team  year  o_ftm  o_reb  o_asts  o_pf  o_stl  o_to  o_blk  o_3pm  o_pts  \\\n",
              "1099  ATL  2002   1594   3495    1679  1783    611  1304    474    402   7714   \n",
              "1100  BOS  2002   1480   3320    1575  1758    720  1105    303    719   7599   \n",
              "1101  CHI  2002   1455   3526    1782  2028    605  1330    461    349   7786   \n",
              "1102  CLE  2002   1502   3660    1712  1864    636  1430    521    293   7495   \n",
              "1103  DAL  2002   1486   3456    1837  1730    665   906    449    636   8444   \n",
              "\n",
              "      d_ftm  d_reb  d_asts  d_pf  d_stl  d_to  d_blk  d_3pm  d_pts  won  lost  \n",
              "1099   1530   3492    1771  1668    738  1020    399    446   8006   35    47  \n",
              "1100   1560   3687    1824  1798    617  1256    368    463   7631   44    38  \n",
              "1101   1794   3689    1949  1795    769  1163    413    431   8207   30    52  \n",
              "1102   1712   3423    1972  1709    802  1112    486    428   8284   17    65  \n",
              "1103   1477   3726    1781  1744    546  1259    318    477   7806   60    22  "
            ]
          },
          "metadata": {
            "tags": []
          },
          "execution_count": 6
        }
      ]
    },
    {
      "cell_type": "code",
      "metadata": {
        "id": "SHUqWcSx_Nml"
      },
      "source": [
        "TeamStats_2002 = np.array(stats_df)\n",
        "#skip first 2 columns (team name and year)\n",
        "team_stats = TeamStats_2002[:,2 :] "
      ],
      "execution_count": 7,
      "outputs": []
    },
    {
      "cell_type": "markdown",
      "metadata": {
        "id": "TxWamA49AFcF"
      },
      "source": [
        "## Game Data "
      ]
    },
    {
      "cell_type": "code",
      "metadata": {
        "id": "BoHIWdA6KpvJ",
        "colab": {
          "base_uri": "https://localhost:8080/",
          "height": 204
        },
        "outputId": "39878660-61da-4148-fd19-145226479451"
      },
      "source": [
        "col_list =[\"HOME_TEAM_ID\",\"VISITOR_TEAM_ID\",\"SEASON\", \"HOME_TEAM_WINS\"]\n",
        "game_data = pd.read_csv(\"games.csv\", usecols=col_list)\n",
        "# get games only for season 2003\n",
        "game_data = game_data.loc[game_data[\"SEASON\"] == 2003]\n",
        "# take CHR Game data out \n",
        "game_data = game_data.loc[game_data[\"HOME_TEAM_ID\"] != 1610612766]\n",
        "game_data = game_data.loc[game_data[\"VISITOR_TEAM_ID\"] != 1610612766]\n",
        "game_data.head()\n"
      ],
      "execution_count": 9,
      "outputs": [
        {
          "output_type": "execute_result",
          "data": {
            "text/html": [
              "<div>\n",
              "<style scoped>\n",
              "    .dataframe tbody tr th:only-of-type {\n",
              "        vertical-align: middle;\n",
              "    }\n",
              "\n",
              "    .dataframe tbody tr th {\n",
              "        vertical-align: top;\n",
              "    }\n",
              "\n",
              "    .dataframe thead th {\n",
              "        text-align: right;\n",
              "    }\n",
              "</style>\n",
              "<table border=\"1\" class=\"dataframe\">\n",
              "  <thead>\n",
              "    <tr style=\"text-align: right;\">\n",
              "      <th></th>\n",
              "      <th>HOME_TEAM_ID</th>\n",
              "      <th>VISITOR_TEAM_ID</th>\n",
              "      <th>SEASON</th>\n",
              "      <th>HOME_TEAM_WINS</th>\n",
              "    </tr>\n",
              "  </thead>\n",
              "  <tbody>\n",
              "    <tr>\n",
              "      <th>14448</th>\n",
              "      <td>1610612765</td>\n",
              "      <td>1610612747</td>\n",
              "      <td>2003</td>\n",
              "      <td>1</td>\n",
              "    </tr>\n",
              "    <tr>\n",
              "      <th>14449</th>\n",
              "      <td>1610612765</td>\n",
              "      <td>1610612747</td>\n",
              "      <td>2003</td>\n",
              "      <td>1</td>\n",
              "    </tr>\n",
              "    <tr>\n",
              "      <th>14450</th>\n",
              "      <td>1610612765</td>\n",
              "      <td>1610612747</td>\n",
              "      <td>2003</td>\n",
              "      <td>1</td>\n",
              "    </tr>\n",
              "    <tr>\n",
              "      <th>14451</th>\n",
              "      <td>1610612747</td>\n",
              "      <td>1610612765</td>\n",
              "      <td>2003</td>\n",
              "      <td>1</td>\n",
              "    </tr>\n",
              "    <tr>\n",
              "      <th>14452</th>\n",
              "      <td>1610612747</td>\n",
              "      <td>1610612765</td>\n",
              "      <td>2003</td>\n",
              "      <td>0</td>\n",
              "    </tr>\n",
              "  </tbody>\n",
              "</table>\n",
              "</div>"
            ],
            "text/plain": [
              "       HOME_TEAM_ID  VISITOR_TEAM_ID  SEASON  HOME_TEAM_WINS\n",
              "14448    1610612765       1610612747    2003               1\n",
              "14449    1610612765       1610612747    2003               1\n",
              "14450    1610612765       1610612747    2003               1\n",
              "14451    1610612747       1610612765    2003               1\n",
              "14452    1610612747       1610612765    2003               0"
            ]
          },
          "metadata": {
            "tags": []
          },
          "execution_count": 9
        }
      ]
    },
    {
      "cell_type": "code",
      "metadata": {
        "id": "-0sW6GWWBiGg"
      },
      "source": [
        "game_data = np.array(game_data)"
      ],
      "execution_count": 10,
      "outputs": []
    },
    {
      "cell_type": "markdown",
      "metadata": {
        "id": "ThgXliu_-_lI"
      },
      "source": [
        "# Create the Feature Vector"
      ]
    },
    {
      "cell_type": "code",
      "metadata": {
        "id": "aqurKFce0_Cy"
      },
      "source": [
        "def createDataSet(game_data,usePCA,isNormalized):\r\n",
        "  pca = PCA(n_components=18)\r\n",
        "  normalizer = preprocessing.MinMaxScaler()\r\n",
        "  data = []\r\n",
        "  for i in range(len(game_data)):\r\n",
        "\r\n",
        "    # find location home_team stats\r\n",
        "    find_index = np.where(team_ID == game_data[i][0])\r\n",
        "    index = find_index[0][0]\r\n",
        "    # get home_team stats\r\n",
        "    home_side = np.array(team_stats[index])\r\n",
        "\r\n",
        "  \r\n",
        "    # get away_team stats\r\n",
        "    find_index = np.where(team_ID == game_data[i][1])\r\n",
        "    index = find_index[0][0]\r\n",
        "    away_side =  np.array(team_stats[index])\r\n",
        "\r\n",
        "\r\n",
        "    # create feature vector concatenate home_team stats and away_team stats\r\n",
        "    feature_vector = np.concatenate((home_side, away_side), axis=None)\r\n",
        "\r\n",
        "    data.append(feature_vector)\r\n",
        "\r\n",
        "  #NORMALIZE\r\n",
        "  if (isNormalized):\r\n",
        "    data = normalizer.fit_transform(data)\r\n",
        "\r\n",
        "  #reduce feature vector\r\n",
        "  if (usePCA):\r\n",
        "    data = pca.fit_transform(data)\r\n",
        "\r\n",
        "  ndata = []\r\n",
        "\r\n",
        "  for z in range(len(game_data)):\r\n",
        "    result = []\r\n",
        "    result.append(game_data[z][3])\r\n",
        "\r\n",
        "    # create feature vector by appending the outcome labled result of the game  \r\n",
        "    feature_vector = np.concatenate((data[z],result), axis=None)\r\n",
        "    ndata.append(feature_vector)\r\n",
        "\r\n",
        "  data = np.array(ndata)\r\n",
        "  \r\n",
        "  return data"
      ],
      "execution_count": 11,
      "outputs": []
    },
    {
      "cell_type": "markdown",
      "metadata": {
        "id": "kxR2f-BEBinK"
      },
      "source": [
        "# ML Techniques"
      ]
    },
    {
      "cell_type": "markdown",
      "metadata": {
        "id": "ulYkSsQEBinK"
      },
      "source": [
        "Scoring matrix "
      ]
    },
    {
      "cell_type": "code",
      "metadata": {
        "id": "PhoIhwKg19gr"
      },
      "source": [
        "def scores(model):\n",
        "    \n",
        "    model.fit(xtrain, ytrain)\n",
        "    y_pred = model.predict(xtest)\n",
        "    \n",
        "    print(\"Accuracy score: %.3f\" % metrics.accuracy_score(ytest, y_pred))\n",
        "    print(\"Recall: %.3f\" % metrics.recall_score(ytest, y_pred))\n",
        "    print(\"Precision: %.3f\" % metrics.precision_score(ytest, y_pred))\n",
        "    print(\"F1: %.3f\" % metrics.f1_score(ytest, y_pred))\n",
        "    \n",
        "    proba = model.predict_proba(xtest)\n",
        "    print(\"Log loss: %.3f\" % metrics.log_loss(ytest, proba))\n",
        "\n",
        "    pos_prob = proba[:, 1]\n",
        "    print(\"Area under ROC curve: %.3f\" % metrics.roc_auc_score(ytest, pos_prob))\n",
        "    \n",
        "    cv = cross_val_score(model, xtest, ytest, cv = 10, scoring = 'accuracy')\n",
        "    print(\"Accuracy (cross validation score): %0.3f (+/- %0.3f)\" % (cv.mean(), cv.std() * 2))\n",
        "\n",
        "    print(\"confusion matrix\")\n",
        "    print( metrics.confusion_matrix(ytest, y_pred) )\n",
        "    \n",
        "    return y_pred"
      ],
      "execution_count": 13,
      "outputs": []
    },
    {
      "cell_type": "markdown",
      "metadata": {
        "id": "MYw2DkTQBinL"
      },
      "source": [
        "## Training and Testing our Models"
      ]
    },
    {
      "cell_type": "markdown",
      "metadata": {
        "id": "TmPmA8NgIGPn"
      },
      "source": [
        "Get the different Data Sets"
      ]
    },
    {
      "cell_type": "code",
      "metadata": {
        "id": "UQQCnil1JqiT"
      },
      "source": [
        "#Original data\n",
        "dA = createDataSet(game_data,False,False)\n",
        "#PCA with Normalized Data\n",
        "dB = createDataSet(game_data,True,True)\n",
        "#PCA Data\n",
        "dC = createDataSet(game_data,True,False)\n",
        "#Normalized Data\n",
        "dD = createDataSet(game_data,False,True)"
      ],
      "execution_count": 14,
      "outputs": []
    },
    {
      "cell_type": "markdown",
      "metadata": {
        "id": "5TMlqIcvILrf"
      },
      "source": [
        "**Results using Original Data (NO PCA or Normalization)**"
      ]
    },
    {
      "cell_type": "code",
      "metadata": {
        "colab": {
          "base_uri": "https://localhost:8080/"
        },
        "id": "eMVcNEtmdibd",
        "outputId": "2127f769-5355-4af8-881e-21097d4a92e8"
      },
      "source": [
        "trainA, testA = train_test_split( dA, test_size = 0.25,random_state = 20)\n",
        "\n",
        "xtrain = trainA[:, :-1] # for all but last column\n",
        "ytrain = trainA[:, -1].astype(int) # for last column (result label )\n",
        "\n",
        "xtest = testA[:, :-1] \n",
        "ytest = testA[:, -1].astype(int) \n",
        "\n",
        "print(\"Training set size: %.0f\" % len(xtrain))\n",
        "print(\"Testing set size: %.0f\" % len(xtest))\n",
        "print()\n",
        "\n",
        "print(\"SVM STATS\")\n",
        "#svc = SVC(probability=True)\n",
        "svc = SVC(kernel='rbf',C=100,probability=True)\n",
        "y_svc = scores(svc)\n",
        "print()\n",
        "\n",
        "print(\"knn STATS\")\n",
        "knn = neighbors.KNeighborsClassifier(n_neighbors = 18, weights = 'uniform')\n",
        "y_knn = scores(knn)\n",
        "print()\n",
        "\n",
        "print(\"logreg STATS\")\n",
        "logreg = LogisticRegression(max_iter=10000)\n",
        "y_log = scores(logreg)"
      ],
      "execution_count": 45,
      "outputs": [
        {
          "output_type": "stream",
          "text": [
            "Training set size: 1038\n",
            "Testing set size: 347\n",
            "\n",
            "SVM STATS\n",
            "Accuracy score: 0.637\n",
            "Recall: 0.847\n",
            "Precision: 0.624\n",
            "F1: 0.719\n",
            "Log loss: 0.641\n",
            "Area under ROC curve: 0.684\n",
            "Accuracy (cross validation score): 0.617 (+/- 0.124)\n",
            "confusion matrix\n",
            "[[ 60  97]\n",
            " [ 29 161]]\n",
            "\n",
            "knn STATS\n",
            "Accuracy score: 0.588\n",
            "Recall: 0.726\n",
            "Precision: 0.603\n",
            "F1: 0.659\n",
            "Log loss: 0.669\n",
            "Area under ROC curve: 0.621\n",
            "Accuracy (cross validation score): 0.608 (+/- 0.151)\n",
            "confusion matrix\n",
            "[[ 66  91]\n",
            " [ 52 138]]\n",
            "\n",
            "logreg STATS\n",
            "Accuracy score: 0.622\n",
            "Recall: 0.805\n",
            "Precision: 0.619\n",
            "F1: 0.700\n",
            "Log loss: 0.651\n",
            "Area under ROC curve: 0.670\n",
            "Accuracy (cross validation score): 0.596 (+/- 0.123)\n",
            "confusion matrix\n",
            "[[ 63  94]\n",
            " [ 37 153]]\n"
          ],
          "name": "stdout"
        }
      ]
    },
    {
      "cell_type": "markdown",
      "metadata": {
        "id": "ipxzhZvJLhq8"
      },
      "source": [
        "**Results using PCA Data**"
      ]
    },
    {
      "cell_type": "code",
      "metadata": {
        "colab": {
          "base_uri": "https://localhost:8080/"
        },
        "id": "X_E5BzpyBinO",
        "outputId": "94f2171b-39d2-4d8c-fb45-75ce4aa71b43"
      },
      "source": [
        "trainA, testA = train_test_split( dC, test_size = 0.25,random_state = 20)\n",
        "\n",
        "xtrain = trainA[:, :-1] # for all but last column\n",
        "ytrain = trainA[:, -1].astype(int) # for last column (result label )\n",
        "\n",
        "xtest = testA[:, :-1] \n",
        "ytest = testA[:, -1].astype(int) \n",
        "\n",
        "\n",
        "print(\"SVM STATS\")\n",
        "#svc = SVC(probability=True)\n",
        "svc = SVC(kernel='rbf',probability=True)\n",
        "y_svc = scores(svc)\n",
        "print()\n",
        "\n",
        "print(\"knn STATS\")\n",
        "knn = neighbors.KNeighborsClassifier(n_neighbors = 18, weights = 'uniform')\n",
        "y_knn = scores(knn)\n",
        "print()\n",
        "\n",
        "print(\"logreg STATS\")\n",
        "logreg = LogisticRegression(max_iter=10000)\n",
        "y_log = scores(logreg)"
      ],
      "execution_count": 38,
      "outputs": [
        {
          "output_type": "stream",
          "text": [
            "SVM STATS\n",
            "Accuracy score: 0.643\n",
            "Recall: 0.868\n",
            "Precision: 0.625\n",
            "F1: 0.727\n",
            "Log loss: 0.651\n",
            "Area under ROC curve: 0.655\n",
            "Accuracy (cross validation score): 0.614 (+/- 0.122)\n",
            "confusion matrix\n",
            "[[ 58  99]\n",
            " [ 25 165]]\n",
            "\n",
            "knn STATS\n",
            "Accuracy score: 0.591\n",
            "Recall: 0.716\n",
            "Precision: 0.607\n",
            "F1: 0.657\n",
            "Log loss: 0.675\n",
            "Area under ROC curve: 0.615\n",
            "Accuracy (cross validation score): 0.614 (+/- 0.135)\n",
            "confusion matrix\n",
            "[[ 69  88]\n",
            " [ 54 136]]\n",
            "\n",
            "logreg STATS\n",
            "Accuracy score: 0.622\n",
            "Recall: 0.842\n",
            "Precision: 0.613\n",
            "F1: 0.710\n",
            "Log loss: 0.657\n",
            "Area under ROC curve: 0.657\n",
            "Accuracy (cross validation score): 0.588 (+/- 0.145)\n",
            "confusion matrix\n",
            "[[ 56 101]\n",
            " [ 30 160]]\n"
          ],
          "name": "stdout"
        }
      ]
    },
    {
      "cell_type": "markdown",
      "metadata": {
        "id": "Qm7Lt439O0v8"
      },
      "source": [
        "**Results using Normalized Data**"
      ]
    },
    {
      "cell_type": "code",
      "metadata": {
        "colab": {
          "base_uri": "https://localhost:8080/"
        },
        "id": "qYaqQgvlBinO",
        "outputId": "014433a3-a2cc-48a2-b0d3-124fb029fbe9"
      },
      "source": [
        "trainA, testA = train_test_split( dD, test_size = 0.25,random_state = 20)\n",
        "\n",
        "xtrain = trainA[:, :-1] # for all but last column\n",
        "ytrain = trainA[:, -1].astype(int) # for last column (result label )\n",
        "\n",
        "xtest = testA[:, :-1] \n",
        "ytest = testA[:, -1].astype(int) \n",
        "\n",
        "\n",
        "print(\"SVM STATS\")\n",
        "#svc = SVC(probability=True)\n",
        "svc = SVC(kernel='rbf',probability=True)\n",
        "y_svc = scores(svc)\n",
        "print()\n",
        "\n",
        "print(\"knn STATS\")\n",
        "knn = neighbors.KNeighborsClassifier(n_neighbors = 18, weights = 'uniform')\n",
        "y_knn = scores(knn)\n",
        "print()\n",
        "\n",
        "print(\"logreg STATS\")\n",
        "logreg = LogisticRegression(max_iter=10000)\n",
        "y_log = scores(logreg)"
      ],
      "execution_count": 44,
      "outputs": [
        {
          "output_type": "stream",
          "text": [
            "SVM STATS\n",
            "Accuracy score: 0.637\n",
            "Recall: 0.853\n",
            "Precision: 0.623\n",
            "F1: 0.720\n",
            "Log loss: 0.652\n",
            "Area under ROC curve: 0.661\n",
            "Accuracy (cross validation score): 0.637 (+/- 0.180)\n",
            "confusion matrix\n",
            "[[ 59  98]\n",
            " [ 28 162]]\n",
            "\n",
            "knn STATS\n",
            "Accuracy score: 0.608\n",
            "Recall: 0.800\n",
            "Precision: 0.608\n",
            "F1: 0.691\n",
            "Log loss: 0.668\n",
            "Area under ROC curve: 0.620\n",
            "Accuracy (cross validation score): 0.616 (+/- 0.131)\n",
            "confusion matrix\n",
            "[[ 59  98]\n",
            " [ 38 152]]\n",
            "\n",
            "logreg STATS\n",
            "Accuracy score: 0.625\n",
            "Recall: 0.826\n",
            "Precision: 0.618\n",
            "F1: 0.707\n",
            "Log loss: 0.643\n",
            "Area under ROC curve: 0.682\n",
            "Accuracy (cross validation score): 0.616 (+/- 0.150)\n",
            "confusion matrix\n",
            "[[ 60  97]\n",
            " [ 33 157]]\n"
          ],
          "name": "stdout"
        }
      ]
    },
    {
      "cell_type": "markdown",
      "metadata": {
        "id": "__GJf7mvO_Jz"
      },
      "source": [
        "**Results using PCA with Normalized Data**"
      ]
    },
    {
      "cell_type": "code",
      "metadata": {
        "colab": {
          "base_uri": "https://localhost:8080/"
        },
        "id": "Dhsa-BB7BinN",
        "outputId": "7396ec80-34aa-4107-96b0-405d7d8af867"
      },
      "source": [
        "trainA, testA = train_test_split( dB, test_size = 0.25,random_state = 20)\n",
        "\n",
        "xtrain = trainA[:, :-1] # for all but last column\n",
        "ytrain = trainA[:, -1].astype(int) # for last column (result label )\n",
        "\n",
        "xtest = testA[:, :-1] \n",
        "ytest = testA[:, -1].astype(int) \n",
        "\n",
        "\n",
        "print(\"SVM STATS\")\n",
        "#svc = SVC(probability=True)\n",
        "svc = SVC(kernel='rbf',probability=True)\n",
        "y_svc = scores(svc)\n",
        "print()\n",
        "\n",
        "print(\"knn STATS\")\n",
        "knn = neighbors.KNeighborsClassifier(n_neighbors = 18, weights = 'uniform')\n",
        "y_knn = scores(knn)\n",
        "print()\n",
        "\n",
        "print(\"logreg STATS\")\n",
        "logreg = LogisticRegression(max_iter=10000)\n",
        "y_log = scores(logreg)"
      ],
      "execution_count": null,
      "outputs": [
        {
          "output_type": "stream",
          "text": [
            "SVM STATS\n",
            "Accuracy score: 0.631\n",
            "Recall: 0.858\n",
            "Precision: 0.617\n",
            "F1: 0.718\n",
            "Log loss: 0.655\n",
            "Area under ROC curve: 0.654\n",
            "Accuracy (cross validation score): 0.645 (+/- 0.175)\n",
            "confusion matrix\n",
            "[[ 56 101]\n",
            " [ 27 163]]\n",
            "\n",
            "knn STATS\n",
            "Accuracy score: 0.599\n",
            "Recall: 0.800\n",
            "Precision: 0.601\n",
            "F1: 0.686\n",
            "Log loss: 0.672\n",
            "Area under ROC curve: 0.609\n",
            "Accuracy (cross validation score): 0.617 (+/- 0.114)\n",
            "confusion matrix\n",
            "[[ 56 101]\n",
            " [ 38 152]]\n",
            "\n",
            "logreg STATS\n",
            "Accuracy score: 0.625\n",
            "Recall: 0.847\n",
            "Precision: 0.615\n",
            "F1: 0.712\n",
            "Log loss: 0.650\n",
            "Area under ROC curve: 0.666\n",
            "Accuracy (cross validation score): 0.605 (+/- 0.151)\n",
            "confusion matrix\n",
            "[[ 56 101]\n",
            " [ 29 161]]\n"
          ],
          "name": "stdout"
        }
      ]
    }
  ]
}